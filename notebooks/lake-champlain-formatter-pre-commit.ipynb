{
 "cells": [
  {
   "cell_type": "markdown",
   "metadata": {},
   "source": [
    "# Introduction\n",
    "\n",
    "The purpose of this lesson is to further extend your knowledge of GEE and functions to bring images and image collections into the browser for further analysis.\n",
    "\n",
    "You’ll locate a Landsat image in any area on the planet that interests you. It could be some place you've lived, visited, or a place where you've worked. It's your choice. You can use the map (at the bottom of the Code Editor). In the upper left corner there are drawing tools to allow you to define polygons on the map interface below the Code Editor window."
   ]
  },
  {
   "cell_type": "markdown",
   "metadata": {},
   "source": [
    "# Lesson Steps"
   ]
  },
  {
   "cell_type": "markdown",
   "metadata": {},
   "source": [
    "## 0. Set Up GEE Environment"
   ]
  },
  {
   "cell_type": "code",
   "execution_count": 20,
   "metadata": {
    "ExecuteTime": {
     "end_time": "2020-09-24T22:07:06.160363Z",
     "start_time": "2020-09-24T22:07:05.332752Z"
    }
   },
   "outputs": [],
   "source": [
    "# Initialze Earth Engine Python API; authenticate if necessary\n",
    "import ee\n",
    "try:\n",
    "    ee.Initialize()\n",
    "except Exception as error:\n",
    "    ee.Authenticate()\n",
    "    ee.Initialize()"
   ]
  },
  {
   "cell_type": "code",
   "execution_count": 21,
   "metadata": {
    "ExecuteTime": {
     "end_time": "2020-09-24T22:07:07.005260Z",
     "start_time": "2020-09-24T22:07:06.998274Z"
    }
   },
   "outputs": [
    {
     "name": "stdout",
     "output_type": "stream",
     "text": [
      "Notebook running in Binder.\n"
     ]
    }
   ],
   "source": [
    "# Import geemap package (environment-dependent; Binder vs. Google Colab)\n",
    "try:\n",
    "    import google.colab\n",
    "# Notebook running in Binder\n",
    "except ImportError as error:\n",
    "    print(\"Notebook running in Binder.\")\n",
    "    import geemap as gm\n",
    "# Notebook running in Google Colab\n",
    "else:\n",
    "    print(\"Notebook running in Google Colab.\")\n",
    "    import subprocess\n",
    "    print(\"Installing geemap package.\")\n",
    "    subprocess.check_call([\"python\", \"-m\", \"pip\", \"install\", \"geemap\"])\n",
    "    print(\"geemap package installed.\")    \n",
    "    import geemap.eefolium as gm"
   ]
  },
  {
   "cell_type": "markdown",
   "metadata": {},
   "source": [
    "## 1. Chose an Area of Interest\n",
    "\n",
    "Define a study area of interest. \n",
    "\n",
    "Hint: Point or polygon geometry should suffice. Review the EE [Geometry Overview](https://developers.google.com/earth-engine/geometries#creating-geometry-objects). "
   ]
  },
  {
   "cell_type": "code",
   "execution_count": 3,
   "metadata": {
    "ExecuteTime": {
     "end_time": "2020-07-26T15:35:50.882609Z",
     "start_time": "2020-07-26T15:35:50.876309Z"
    }
   },
   "outputs": [],
   "source": [
    "# Define point for the center of Lake Champlain, Vermont\n",
    "lake_champlain_center = ee.Geometry.Point(-73.3333, 44.5333)"
   ]
  },
  {
   "cell_type": "code",
   "execution_count": 4,
   "metadata": {
    "ExecuteTime": {
     "end_time": "2020-07-26T15:35:50.896568Z",
     "start_time": "2020-07-26T15:35:50.885599Z"
    }
   },
   "outputs": [
    {
     "name": "stdout",
     "output_type": "stream",
     "text": [
      "Your study area is the correct type - ee.geometry.Geometry\n",
      "Points earned: 10\n"
     ]
    }
   ],
   "source": [
    "# DO NOT MODIFY - AUTOGRADE\n",
    "# Initialize points\n",
    "points = 0\n",
    "\n",
    "# Check if type is EE geometry\n",
    "try:\n",
    "    assert isinstance(lake_champlain_center, ee.geometry.Geometry)\n",
    "    print(\"Your study area is the correct type - ee.geometry.Geometry\")\n",
    "    points += 10\n",
    "\n",
    "# Catch assertion error\n",
    "except AssertionError as error:\n",
    "    print(\"AssertionError:\",\n",
    "          \"Your study area object should be of type ee.geometry.Geometry.\")\n",
    "\n",
    "# Show points earned    \n",
    "print(f\"Points earned: {points}\")"
   ]
  },
  {
   "cell_type": "markdown",
   "metadata": {},
   "source": [
    "## 2. Import a Landsat Collection\n",
    "\n",
    "Use the `ee.ImageCollection` (\"Name of Collection\") function. \n",
    "\n",
    "Hint: In the EE DataCatalog each collection has an \"EE Snippet\" of code that you can cut-and-paste. You can choose any of the Landsat Tier-1 Collections (more on collections that are in the Data Catalog later)."
   ]
  },
  {
   "cell_type": "code",
   "execution_count": 5,
   "metadata": {
    "ExecuteTime": {
     "end_time": "2020-07-26T15:35:50.905855Z",
     "start_time": "2020-07-26T15:35:50.899568Z"
    }
   },
   "outputs": [],
   "source": [
    "# Define collection \n",
    "landsat8_t1_sr = ee.ImageCollection('LANDSAT/LC08/C01/T1_SR')"
   ]
  },
  {
   "cell_type": "code",
   "execution_count": 6,
   "metadata": {
    "ExecuteTime": {
     "end_time": "2020-07-26T15:35:50.917014Z",
     "start_time": "2020-07-26T15:35:50.908821Z"
    }
   },
   "outputs": [
    {
     "name": "stdout",
     "output_type": "stream",
     "text": [
      "Your image collection object is the correct type - ee.imagecollection.ImageCollection\n",
      "Points earned: 10\n"
     ]
    }
   ],
   "source": [
    "# DO NOT MODIFY - AUTOGRADE\n",
    "# Initialize points\n",
    "points = 0\n",
    "\n",
    "# Check if type is EE image collection\n",
    "try:\n",
    "    assert isinstance(landsat8_t1_sr, ee.imagecollection.ImageCollection)\n",
    "    print(\"Your image collection object is the correct type - ee.imagecollection.ImageCollection\")\n",
    "    points += 10\n",
    "\n",
    "# Catch assertion error\n",
    "except AssertionError as error:\n",
    "    print(\"AssertionError:\",\n",
    "          \"Your image collection object should be of type ee.imagecollection.ImageCollection.\")\n",
    "\n",
    "# Show points earned\n",
    "print(f\"Points earned: {points}\")"
   ]
  },
  {
   "cell_type": "markdown",
   "metadata": {},
   "source": [
    "## 3. Filter the Collection to a Specific Time Period"
   ]
  },
  {
   "cell_type": "markdown",
   "metadata": {},
   "source": [
    "Use the various `.filter` methods under `ee.collection` to filter your data. See examples [here](https://developers.google.com/earth-engine/ic_filtering).\n",
    "\n",
    "For instance:\n",
    "\n",
    "```python\n",
    "reduced_collection = ee.ImageCollection(\n",
    "    'LANDSAT/LT05/C01/T2').filterDate('1987-01-01', '1990-05-01')\n",
    "```\n",
    "\n",
    "You can filter on time and location, image quality, and numerous other image collection properties.\n",
    "\n",
    "For now just choose a time range and a location (use `.filterbounds` for this step)."
   ]
  },
  {
   "cell_type": "code",
   "execution_count": 7,
   "metadata": {
    "ExecuteTime": {
     "end_time": "2020-07-26T15:35:50.928355Z",
     "start_time": "2020-07-26T15:35:50.922015Z"
    }
   },
   "outputs": [],
   "source": [
    "# Filter Landsat 8 Tier 1 SR to Vermont, 6/2018-9/2018\n",
    "vermont_jun_sep_2018 = landsat8_t1_sr.filterDate(\n",
    "    '2018-06-01', '2018-09-30').filterBounds(lake_champlain_center)"
   ]
  },
  {
   "cell_type": "code",
   "execution_count": 8,
   "metadata": {
    "ExecuteTime": {
     "end_time": "2020-07-26T15:36:09.109303Z",
     "start_time": "2020-07-26T15:35:50.933355Z"
    }
   },
   "outputs": [
    {
     "name": "stdout",
     "output_type": "stream",
     "text": [
      "Your filtered image collection object has been reduced.\n",
      "Points earned: 10\n"
     ]
    }
   ],
   "source": [
    "# DO NOT MODIFY - AUTOGRADE\n",
    "# Initialize points\n",
    "points = 0\n",
    "\n",
    "# Check if filtered collection is reduced (less images than original)\n",
    "try:\n",
    "    assert vermont_jun_sep_2018.size().getInfo() < landsat8_t1_sr.size().getInfo()\n",
    "    print(\"Your filtered image collection object has been reduced.\")\n",
    "    points += 10\n",
    "\n",
    "# Catch assertion error\n",
    "except AssertionError as error:\n",
    "    print(\"AssertionError:\",\n",
    "          \"Your filtered image collection object has not been reduced.\"\n",
    "          \"It has the same number of images as the original collection.\")\n",
    "\n",
    "# Show points earned\n",
    "print(f\"Points earned: {points}\")"
   ]
  },
  {
   "cell_type": "markdown",
   "metadata": {},
   "source": [
    "## 4. Apply the Palette to Improve your Visualizations\n",
    "\n",
    "Recall that you used the EE palette in Lesson 1, feel free to re-use that code in this exercise. More information on the palette and visualizing imagery can be found [here](https://developers.google.com/earth-engine/tutorial_api_02). You should use the palette to help you visualize your outputs in this exercise."
   ]
  },
  {
   "cell_type": "code",
   "execution_count": 9,
   "metadata": {
    "ExecuteTime": {
     "end_time": "2020-07-26T15:36:09.117374Z",
     "start_time": "2020-07-26T15:36:09.109303Z"
    }
   },
   "outputs": [],
   "source": [
    "# Define Landsat 8 RGB visualization parameters\n",
    "l8_vis_params_rgb = {\n",
    "  'bands': ['B4', 'B3', 'B2'],\n",
    "  'min': 0,\n",
    "  'max': 3000\n",
    "}\n",
    "\n",
    "# Define Landsat 8 CIR visualization parameters\n",
    "l8_vis_params_cir = {\n",
    "  'bands': ['B5', 'B4', 'B3'],\n",
    "  'min': 0,\n",
    "  'max': 5000\n",
    "}"
   ]
  },
  {
   "cell_type": "code",
   "execution_count": 10,
   "metadata": {
    "ExecuteTime": {
     "end_time": "2020-07-26T15:36:09.128354Z",
     "start_time": "2020-07-26T15:36:09.120366Z"
    }
   },
   "outputs": [
    {
     "name": "stdout",
     "output_type": "stream",
     "text": [
      "Your RGB visualization parameters have the correct bands.\n",
      "Points earned: 10\n"
     ]
    }
   ],
   "source": [
    "# DO NOT MODIFY - AUTOGRADE\n",
    "# Initialize points\n",
    "points = 0\n",
    "\n",
    "# Check if vis params have the correct bands for Landsat 8\n",
    "try:\n",
    "    assert l8_vis_params_rgb.get('bands') == ['B4', 'B3', 'B2']\n",
    "    print(\"Your RGB visualization parameters have the correct bands.\")\n",
    "    points += 10\n",
    "\n",
    "# Catch assertion error\n",
    "except AssertionError as error:\n",
    "    print(\"AssertionError:\",\n",
    "          \"Your RGB visualization parameters have incorrect bands.\")\n",
    "\n",
    "# Show points earned\n",
    "print(f\"Points earned: {points}\")"
   ]
  },
  {
   "cell_type": "markdown",
   "metadata": {},
   "source": [
    "## 5. \"Reduce\" Your Collection by Compositing Imagery\n",
    "\n",
    "Using filters above helps to \"reduce\" the number of scenes in a collection that you're working with. However this can still result in a \"ton\" of data! You can use compositing, as described [here](https://developers.google.com/earth-engine/tutorial_api_05), to calculate across all of the images (and bands) in your filtered collection to create, for example, a \"median\" image. Recall your basic statistics: the median is the \"middle value\" in a set of observations. Other measures could be applied here too, for instance the \"mean\" across all images could be determined.\n",
    "\n",
    "For this part of the exercise take your time- and space-filtered collection from above and apply a reducer like the \"median\". One of the things to remember about collections and display is that the default display on the map for a collection is to take the very latest image in the collection and display. Reducing to the median allows you to \"composite\" all of the images in the collection and display this result."
   ]
  },
  {
   "cell_type": "code",
   "execution_count": 11,
   "metadata": {
    "ExecuteTime": {
     "end_time": "2020-07-26T15:36:09.137677Z",
     "start_time": "2020-07-26T15:36:09.131370Z"
    }
   },
   "outputs": [],
   "source": [
    "# Sort collection from least to most cloudy\n",
    "vermont_sorted = vermont_jun_sep_2018.sort('CLOUD_COVER')\n",
    "\n",
    "# Reduce collection to the first (least cloudy) image\n",
    "vermont_least_cloudy = ee.Image(vermont_sorted.first())"
   ]
  },
  {
   "cell_type": "code",
   "execution_count": 12,
   "metadata": {
    "ExecuteTime": {
     "end_time": "2020-07-26T15:36:09.338047Z",
     "start_time": "2020-07-26T15:36:09.139937Z"
    }
   },
   "outputs": [
    {
     "name": "stdout",
     "output_type": "stream",
     "text": [
      "Your image collection has been reduced to a single image.\n",
      "Points earned: 10\n"
     ]
    }
   ],
   "source": [
    "# DO NOT MODIFY - AUTOGRADE\n",
    "# Initialize points\n",
    "points = 0\n",
    "\n",
    "# Check if image collection has been reduced to a single image\n",
    "try:\n",
    "    assert vermont_least_cloudy.getInfo().get('type') == 'Image'\n",
    "    print(\"Your image collection has been reduced to a single image.\")\n",
    "    points += 10\n",
    "\n",
    "# Catch assertion error\n",
    "except AssertionError as error:\n",
    "    print(\"AssertionError:\",\n",
    "          \"Your image collection has not been reduced to a single image.\")\n",
    "\n",
    "# Show points earned\n",
    "print(f\"Points earned: {points}\")"
   ]
  },
  {
   "cell_type": "markdown",
   "metadata": {},
   "source": [
    "## 6. Create a Map of the Composite Image\n",
    "\n",
    "Combine the visualization parameters with your composite image to add the composite to an interactive map for viewing.\n",
    "\n",
    "Hint: Review the [Image Visualization](https://developers.google.com/earth-engine/image_visualization) documentation, specifically the `Map.addLayer()` function, for help with adding layers to an EE map.\n",
    "\n",
    "Hint: Run the following commands in Jupyter Notebook to review `geemap` documentation for creating and working with an interactive map in Python:\n",
    "\n",
    "```python\n",
    "# Call help on geemap class and methods\n",
    "help(gm.Map)\n",
    "help(gm.Map.setOptions)\n",
    "help(gm.Map.setCenter)\n",
    "help(gm.Map.addLayer)\n",
    "```\n",
    "\n",
    "Hint: To display a map within Jupyter Notebook, first create a `geemap.Map` object, configure options,  and add layers, then call the variable containing the `geemap.Map` object:\n",
    "\n",
    "```python\n",
    "# Instantiate map object\n",
    "ee_map = gm.Map()\n",
    "\n",
    "# Configure map options\n",
    "# CODE FOR MAP OPTIONS\n",
    "\n",
    "# Add layers to map\n",
    "# CODE FOR MAP LAYERS\n",
    "\n",
    "# Display map\n",
    "ee_map\n",
    "```"
   ]
  },
  {
   "cell_type": "code",
   "execution_count": 13,
   "metadata": {
    "ExecuteTime": {
     "end_time": "2020-07-26T15:36:10.529853Z",
     "start_time": "2020-07-26T15:36:09.340031Z"
    }
   },
   "outputs": [],
   "source": [
    "# Create interactive map for visualization\n",
    "vermont_map = gm.Map()\n",
    "\n",
    "# Set basemap\n",
    "vermont_map.setOptions('SATELLITE')\n",
    "\n",
    "# Center map to study area\n",
    "vermont_map.setCenter(\n",
    "    lon=lake_champlain_center.coordinates().getInfo()[0],\n",
    "    lat=lake_champlain_center.coordinates().getInfo()[1],\n",
    "    zoom=8)"
   ]
  },
  {
   "cell_type": "code",
   "execution_count": 14,
   "metadata": {
    "ExecuteTime": {
     "end_time": "2020-07-26T15:36:11.362549Z",
     "start_time": "2020-07-26T15:36:10.529853Z"
    }
   },
   "outputs": [],
   "source": [
    "# Add least cloudy, RGB and CIR to interactive map\n",
    "vermont_map.addLayer(\n",
    "    ee_object=vermont_least_cloudy,\n",
    "    vis_params=l8_vis_params_rgb,\n",
    "    name=\"Vermont | Lake Champlain | Least Cloudy | RGB\",\n",
    "    shown=True,\n",
    "    opacity=1)\n",
    "\n",
    "vermont_map.addLayer(\n",
    "    ee_object=vermont_least_cloudy,\n",
    "    vis_params=l8_vis_params_cir,\n",
    "    name=\"Vermont | Lake Champlain | Least Cloudy | CIR\",\n",
    "    shown=True,\n",
    "    opacity=1)\n",
    "\n",
    "# Add study area (point) to map\n",
    "vermont_map.addLayer(\n",
    "    ee_object=lake_champlain_center, \n",
    "    vis_params={'color': '00FF00', 'width': 5},\n",
    "    name='Vermont | Lake Champlain | Center',\n",
    "    shown=True,\n",
    "    opacity=1)"
   ]
  },
  {
   "cell_type": "code",
   "execution_count": 15,
   "metadata": {
    "ExecuteTime": {
     "end_time": "2020-07-26T15:36:11.379454Z",
     "start_time": "2020-07-26T15:36:11.362549Z"
    }
   },
   "outputs": [
    {
     "data": {
      "application/vnd.jupyter.widget-view+json": {
       "model_id": "8610aebf9b1248d5b408107c1bdea2d1",
       "version_major": 2,
       "version_minor": 0
      },
      "text/plain": [
       "Map(center=[44.5333, -73.3333], controls=(ZoomControl(options=['position', 'zoom_in_text', 'zoom_in_title', 'z…"
      ]
     },
     "metadata": {},
     "output_type": "display_data"
    }
   ],
   "source": [
    "# Display map\n",
    "vermont_map"
   ]
  },
  {
   "cell_type": "markdown",
   "metadata": {},
   "source": [
    "## 7. Apply Masking and Mosaicking Functions \n",
    "\n",
    "Masks and mosaics (information found [here](https://developers.google.com/earth-engine/tutorial_api_05)) are very traditional image processing functions. GEE provides very nice capabilities to customize outputs. Read through the example provided and apply a similar approach to your reduced collection. The example discusses a \"water mask\", but there are other ways to mask an image, like for instance using a polygon coverage of political boundaries, or maybe \"ecoregions\". Try your hand at applying the water mask or developing your own mask, and then use the mosaic function to combine the mask and the reduced image. Hint: There are ancillary data resources in the data catalog that could be used in this step."
   ]
  },
  {
   "cell_type": "code",
   "execution_count": 16,
   "metadata": {
    "ExecuteTime": {
     "end_time": "2020-07-26T15:36:11.389423Z",
     "start_time": "2020-07-26T15:36:11.382443Z"
    }
   },
   "outputs": [],
   "source": [
    "# Load the Hansen dataset\n",
    "hansen_2015 = ee.Image('UMD/hansen/global_forest_change_2015')\n",
    "\n",
    "# Select the mask band\n",
    "datamask = hansen_2015.select('datamask')\n",
    "\n",
    "# Create the binary mask; non-water features, no data (0) and land (1)\n",
    "water = datamask.eq(2)\n",
    "\n",
    "# Create water image (mask water with itself)\n",
    "water = water.mask(water)"
   ]
  },
  {
   "cell_type": "code",
   "execution_count": 17,
   "metadata": {
    "ExecuteTime": {
     "end_time": "2020-07-26T15:36:11.399694Z",
     "start_time": "2020-07-26T15:36:11.392415Z"
    }
   },
   "outputs": [],
   "source": [
    "# Create visualization image for Landsat 8\n",
    "vermont_least_cloudy_rgb = vermont_least_cloudy.visualize(\n",
    "    **{'bands': ['B4', 'B3', 'B2'], 'max': 3000, 'min': 0})\n",
    "\n",
    "# Create visualization image for Hansen water mask\n",
    "water_vis = water.visualize(\n",
    "    **{'palette': 'blue', 'max': 1, 'min': 0, 'opacity': 0.75})"
   ]
  },
  {
   "cell_type": "code",
   "execution_count": 18,
   "metadata": {
    "ExecuteTime": {
     "end_time": "2020-07-26T15:36:11.527192Z",
     "start_time": "2020-07-26T15:36:11.402670Z"
    }
   },
   "outputs": [],
   "source": [
    "# Get Landsat image boundary coordinates\n",
    "landsat_image_coords = vermont_least_cloudy.getInfo().get(\n",
    "    'properties').get('system:footprint').get('coordinates')\n",
    "\n",
    "# Define Landsat clip polygon from coordinates\n",
    "vermont_clip_poly = ee.Geometry.Polygon([landsat_image_coords])\n",
    "\n",
    "# Clip water mask to Landsat polygon\n",
    "water_vis_clip = water_vis.clip(vermont_clip_poly)"
   ]
  },
  {
   "cell_type": "code",
   "execution_count": 19,
   "metadata": {
    "ExecuteTime": {
     "end_time": "2020-07-26T15:36:11.537167Z",
     "start_time": "2020-07-26T15:36:11.531182Z"
    }
   },
   "outputs": [],
   "source": [
    "# Create image collection from image visualizations\n",
    "vermont_collection = ee.ImageCollection(\n",
    "    [vermont_least_cloudy_rgb, water_vis_clip])\n",
    "\n",
    "# Create mosaic from image collection\n",
    "vermont_mosaic = vermont_collection.mosaic()"
   ]
  },
  {
   "cell_type": "markdown",
   "metadata": {},
   "source": [
    "## 8. Create a Map of the Mosaic Image\n",
    "\n",
    "Create a new interactive map and add the mosaic image to the map for viewing.\n",
    "\n",
    "Hint: Follow the guidance provided in Section 6 for creating and configuring an interactive map in Jupyter Notebook."
   ]
  },
  {
   "cell_type": "code",
   "execution_count": 20,
   "metadata": {
    "ExecuteTime": {
     "end_time": "2020-07-26T15:36:12.343875Z",
     "start_time": "2020-07-26T15:36:11.541156Z"
    }
   },
   "outputs": [],
   "source": [
    "# Create interactive map for visualization\n",
    "mosaic_map = gm.Map()\n",
    "\n",
    "# Set basemap\n",
    "mosaic_map.setOptions('SATELLITE')\n",
    "\n",
    "# Center map to study area\n",
    "mosaic_map.setCenter(\n",
    "    lon=lake_champlain_center.coordinates().getInfo()[0],\n",
    "    lat=lake_champlain_center.coordinates().getInfo()[1],\n",
    "    zoom=8)"
   ]
  },
  {
   "cell_type": "code",
   "execution_count": 21,
   "metadata": {
    "ExecuteTime": {
     "end_time": "2020-07-26T15:36:12.677190Z",
     "start_time": "2020-07-26T15:36:12.347864Z"
    }
   },
   "outputs": [],
   "source": [
    "# Add mosaic image to the map\n",
    "mosaic_map.addLayer(vermont_mosaic, {}, 'Vermont | Lake Champlain | Water Mask Mosaic');"
   ]
  },
  {
   "cell_type": "code",
   "execution_count": 22,
   "metadata": {
    "ExecuteTime": {
     "end_time": "2020-07-26T15:36:12.691134Z",
     "start_time": "2020-07-26T15:36:12.680166Z"
    }
   },
   "outputs": [
    {
     "data": {
      "application/vnd.jupyter.widget-view+json": {
       "model_id": "277d1af07f894f7dadc9ea4ecda455f5",
       "version_major": 2,
       "version_minor": 0
      },
      "text/plain": [
       "Map(center=[44.5333, -73.3333], controls=(ZoomControl(options=['position', 'zoom_in_text', 'zoom_in_title', 'z…"
      ]
     },
     "metadata": {},
     "output_type": "display_data"
    }
   ],
   "source": [
    "# Display map\n",
    "mosaic_map"
   ]
  },
  {
   "cell_type": "markdown",
   "metadata": {},
   "source": [
    "# Discuss Your Workflow\n",
    "\n",
    "Create a BRIEF narrative describing your work. Feel free to explore more than one area, or see what happens when you change time periods, or even collections if you have time. \n",
    "\n",
    "If you do a bit more exploration by changing areas or time periods or collections, etc., comment on what you discovered, either in the imagery or in your interaction with EE. The goal here is to get experience with the syntax of the Python language, Jupyter Notebook, the EE Python API, and the EE functions and methods."
   ]
  },
  {
   "cell_type": "markdown",
   "metadata": {},
   "source": [
    "**YOUR ANSWER HERE**"
   ]
  },
  {
   "cell_type": "code",
   "execution_count": null,
   "metadata": {},
   "outputs": [],
   "source": []
  }
 ],
 "metadata": {
  "kernelspec": {
   "display_name": "Python 3",
   "language": "python",
   "name": "python3"
  },
  "language_info": {
   "codemirror_mode": {
    "name": "ipython",
    "version": 3
   },
   "file_extension": ".py",
   "mimetype": "text/x-python",
   "name": "python",
   "nbconvert_exporter": "python",
   "pygments_lexer": "ipython3",
   "version": "3.8.2"
  }
 },
 "nbformat": 4,
 "nbformat_minor": 4
}
