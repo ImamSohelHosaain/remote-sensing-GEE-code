{
 "cells": [
  {
   "cell_type": "markdown",
   "metadata": {},
   "source": [
    "# Appendix A: Acronym List\n",
    "\n",
    "```{table} Acronym List\n",
    ":name: table:acronym-list\n",
    "\n",
    "| Abbreviation | Definition |\n",
    "| :----------- | :--------- |\n",
    "| API | Application Programming Interface |\n",
    "| BAI | Burned Area Index |\n",
    "| BRDF | Bidirectional Reflectance Distribution Function |\n",
    "| C1 | Collection 1 |\n",
    "| DDV | Dark Dense Vegetation |\n",
    "| DQR | Data Quality Report |\n",
    "| EFR | Earth Observation Full Resolution |\n",
    "| EOS | Earth Observing System |\n",
    "| ESA | European Space Agency |\n",
    "| EVI | Enhanced Vegetation Index |\n",
    "| GEE | Google Earth Engine |\n",
    "| GIS          | Geographic Information System            |\n",
    "| GRD | Ground Range Detected |\n",
    "| LaSRC | Land Surface Reflectance Code |\n",
    "| LEDAPS | Landsat Ecosystem Disturbance Adaptive Processing System |\n",
    "| MODIS | Moderate Resolution Imaging Spectroradiometer |\n",
    "| MSI | Multispectral Instrument |\n",
    "| MSS | Multispectral Scanner |\n",
    "| NAIP | National Agriculture Imagery Program |\n",
    "| NASA | National Aeronautics and Space Administration |\n",
    "| NBRT | Normalized Burn Ration Thermal |\n",
    "| NDVI | Normalized Difference Vegetation Index |\n",
    "| NDSI | Normalized Difference Snow Index |\n",
    "| NDWI | Normalized Difference Water Index |\n",
    "| OLCI | Ocean and Land Color Instrument |\n",
    "| OLI | Operational Land Imager |\n",
    "| QA | Quality Assessment |\n",
    "| RGB | Red-Green-Blue |\n",
    "| SAR | Synthetic Aperture Radar|\n",
    "| S2AC | Sentinel-2 Atmospheric Correction |\n",
    "| SC | Scene Classification |\n",
    "| SR | Surface Reflection |\n",
    "| SRTM | Shuttle Radar Topography Mission |\n",
    "| TOA | Top of Atmosphere |\n",
    "| TROPOMI | Tropospheric Monitoring Instrument |\n",
    "\n",
    "```"
   ]
  }
 ],
 "metadata": {
  "kernelspec": {
   "display_name": "Python 3",
   "language": "python",
   "name": "python3"
  },
  "language_info": {
   "codemirror_mode": {
    "name": "ipython",
    "version": 3
   },
   "file_extension": ".py",
   "mimetype": "text/x-python",
   "name": "python",
   "nbconvert_exporter": "python",
   "pygments_lexer": "ipython3",
   "version": "3.8.2"
  },
  "toc": {
   "base_numbering": 1,
   "nav_menu": {},
   "number_sections": true,
   "sideBar": true,
   "skip_h1_title": false,
   "title_cell": "Table of Contents",
   "title_sidebar": "Contents",
   "toc_cell": false,
   "toc_position": {},
   "toc_section_display": true,
   "toc_window_display": false
  },
  "varInspector": {
   "cols": {
    "lenName": 16,
    "lenType": 16,
    "lenVar": 40
   },
   "kernels_config": {
    "python": {
     "delete_cmd_postfix": "",
     "delete_cmd_prefix": "del ",
     "library": "var_list.py",
     "varRefreshCmd": "print(var_dic_list())"
    },
    "r": {
     "delete_cmd_postfix": ") ",
     "delete_cmd_prefix": "rm(",
     "library": "var_list.r",
     "varRefreshCmd": "cat(var_dic_list()) "
    }
   },
   "types_to_exclude": [
    "module",
    "function",
    "builtin_function_or_method",
    "instance",
    "_Feature"
   ],
   "window_display": false
  }
 },
 "nbformat": 4,
 "nbformat_minor": 4
}
