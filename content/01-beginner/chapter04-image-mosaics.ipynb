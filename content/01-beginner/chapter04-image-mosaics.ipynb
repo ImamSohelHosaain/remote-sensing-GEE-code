{
 "cells": [
  {
   "cell_type": "markdown",
   "metadata": {},
   "source": [
    "# Chapter 4: Image Mosaics"
   ]
  },
  {
   "cell_type": "markdown",
   "metadata": {},
   "source": [
    "## Environment Setup"
   ]
  },
  {
   "cell_type": "code",
   "execution_count": null,
   "metadata": {
    "ExecuteTime": {
     "end_time": "2020-11-08T16:05:20.612479Z",
     "start_time": "2020-11-08T16:05:20.606492Z"
    }
   },
   "outputs": [],
   "source": [
    "def initialize_earth_engine():\n",
    "    \"\"\"Initializes the Earth Engine Python API.\n",
    "    \n",
    "    Returns\n",
    "    -------\n",
    "    str\n",
    "    \n",
    "    Example\n",
    "    -------\n",
    "        >>> import ee\n",
    "        >>> initialize_earth_engine()\n",
    "        Imported ee. Initialized Earth Engine Python API.\n",
    "    \"\"\"\n",
    "    # Import ee if not already imported\n",
    "    import sys\n",
    "\n",
    "    if \"ee\" not in sys.modules:\n",
    "        import ee\n",
    "\n",
    "        global ee\n",
    "\n",
    "    # Initialize Earth Engine Python API\n",
    "    try:\n",
    "        ee.Initialize()\n",
    "    except Exception:\n",
    "        ee.Authenticate()\n",
    "        ee.Initialize()\n",
    "\n",
    "    return print(\"Imported ee. Initialized Earth Engine Python API.\")"
   ]
  },
  {
   "cell_type": "code",
   "execution_count": null,
   "metadata": {
    "ExecuteTime": {
     "end_time": "2020-11-08T16:05:20.626440Z",
     "start_time": "2020-11-08T16:05:20.616465Z"
    }
   },
   "outputs": [],
   "source": [
    "def import_geemap():\n",
    "    \"\"\"Imports the geemap package (environment-dependent, Google Colab\n",
    "    vs. Jupyter/Binder).\n",
    "    \n",
    "    Returns\n",
    "    -------\n",
    "    environment : str\n",
    "        Message indicating the geemap has been imported into the\n",
    "        environment. The message differs based on the environment.\n",
    "    \n",
    "    Example\n",
    "    -------\n",
    "        >>> import_geemap()\n",
    "        Notebook running in Jupyter/Binder. Imported geemap as gm.\n",
    "    \"\"\"\n",
    "    # Check for Google Colab\n",
    "    try:\n",
    "        import google.colab\n",
    "    # Notebook running in Jupyter/Binder\n",
    "    except ImportError:\n",
    "        running_in_colab = False\n",
    "    # Notebook running in Google Colab\n",
    "    else:\n",
    "        running_in_colab = True\n",
    "\n",
    "    # Import geemap based on environment (Google Colab vs. Jupyter/Binder)\n",
    "    if running_in_colab:\n",
    "        import subprocess\n",
    "\n",
    "        subprocess.check_call([\"python\", \"-m\", \"pip\", \"install\", \"geemap\"])\n",
    "        import geemap.eefolium as gm\n",
    "\n",
    "        global gm\n",
    "        environment = print(\n",
    "            \"Notebook running in Google Colab. Imported geemap.folium as gm.\"\n",
    "        )\n",
    "    else:\n",
    "        import geemap as gm\n",
    "\n",
    "        global gm\n",
    "        environment = print(\n",
    "            \"Notebook running in Jupyter/Binder. Imported geemap as gm.\"\n",
    "        )\n",
    "\n",
    "    return environment"
   ]
  },
  {
   "cell_type": "code",
   "execution_count": null,
   "metadata": {
    "ExecuteTime": {
     "end_time": "2020-11-08T16:05:22.678711Z",
     "start_time": "2020-11-08T16:05:20.629464Z"
    }
   },
   "outputs": [],
   "source": [
    "# Initialize Earth Engine Python API\n",
    "initialize_earth_engine()"
   ]
  },
  {
   "cell_type": "code",
   "execution_count": null,
   "metadata": {
    "ExecuteTime": {
     "end_time": "2020-11-08T16:05:23.690291Z",
     "start_time": "2020-11-08T16:05:22.678711Z"
    }
   },
   "outputs": [],
   "source": [
    "# Import geemap\n",
    "import_geemap()"
   ]
  },
  {
   "cell_type": "markdown",
   "metadata": {},
   "source": [
    "## Data Acquisition and Preprocessing"
   ]
  },
  {
   "cell_type": "code",
   "execution_count": null,
   "metadata": {
    "ExecuteTime": {
     "end_time": "2020-11-08T16:05:23.882351Z",
     "start_time": "2020-11-08T16:05:23.851858Z"
    }
   },
   "outputs": [],
   "source": [
    "# Get boundary for Rocky Mountain National Park, Colorado (from GEE Asset)\n",
    "vt_boundary = ee.FeatureCollection(\n",
    "    \"users/calekochenour/vermont_state_boundary\"\n",
    ")\n",
    "\n",
    "# Get Landsat 8 collection\n",
    "landsat8_t1_sr = ee.ImageCollection(\"LANDSAT/LC08/C01/T1_SR\")\n",
    "\n",
    "# Filter Landsat 8 to least cloudy in September\n",
    "vermont_summer_median = (\n",
    "    landsat8_t1_sr.filter(ee.Filter.calendarRange(2013, 2020, \"year\"))\n",
    "    .filter(ee.Filter.calendarRange(6, 9, \"month\"))\n",
    "    .filterBounds(vt_boundary)\n",
    "    .filterMetadata(\"CLOUD_COVER\", \"less_than\", 0.45)\n",
    "    .median()\n",
    "    .clip(vt_boundary)\n",
    ")\n",
    "\n",
    "# Load and clip the Hansen dataset\n",
    "hansen_2015 = ee.Image(\"UMD/hansen/global_forest_change_2015\").clip(\n",
    "    vt_boundary\n",
    ")\n",
    "\n",
    "# Select the mask band\n",
    "datamask = hansen_2015.select(\"datamask\")\n",
    "\n",
    "# Create the binary mask; non-water features, no data (0) and land (1)\n",
    "# Select water (2) features; water will get value of 1 (used to mask),\n",
    "#   and no data and land will get values of 0 (don't mask)\n",
    "water = datamask.eq(2)\n",
    "\n",
    "# Create water image (mask water with itself); returns only water objects\n",
    "#  that had mask values of 1\n",
    "water = water.mask(water)"
   ]
  },
  {
   "cell_type": "markdown",
   "metadata": {},
   "source": [
    "## Data Processing"
   ]
  },
  {
   "cell_type": "code",
   "execution_count": null,
   "metadata": {
    "ExecuteTime": {
     "end_time": "2020-11-08T16:05:23.894324Z",
     "start_time": "2020-11-08T16:05:23.888333Z"
    }
   },
   "outputs": [],
   "source": [
    "# No data processsing in this chapter."
   ]
  },
  {
   "cell_type": "markdown",
   "metadata": {},
   "source": [
    "## Data Postprocessing"
   ]
  },
  {
   "cell_type": "code",
   "execution_count": null,
   "metadata": {
    "ExecuteTime": {
     "end_time": "2020-11-08T16:05:23.906317Z",
     "start_time": "2020-11-08T16:05:23.897309Z"
    }
   },
   "outputs": [],
   "source": [
    "# No data postprocessing in this chapter."
   ]
  },
  {
   "cell_type": "markdown",
   "metadata": {},
   "source": [
    "## Data Visualization"
   ]
  },
  {
   "cell_type": "code",
   "execution_count": null,
   "metadata": {
    "ExecuteTime": {
     "end_time": "2020-11-08T16:05:25.007322Z",
     "start_time": "2020-11-08T16:05:23.909276Z"
    }
   },
   "outputs": [],
   "source": [
    "# Create interactive map for visualization and set options\n",
    "if \"vermont_map\" in globals():\n",
    "    del vermont_map\n",
    "    vermont_map = gm.Map()\n",
    "    vermont_map.setOptions(\"SATELLITE\")\n",
    "    vermont_map.setCenter(lon=-72.7330, lat=44.0939, zoom=7)\n",
    "else:\n",
    "    vermont_map = gm.Map()\n",
    "    vermont_map.setOptions(\"SATELLITE\")\n",
    "    vermont_map.setCenter(lon=-72.7330, lat=44.0939, zoom=7)"
   ]
  },
  {
   "cell_type": "code",
   "execution_count": null,
   "metadata": {
    "ExecuteTime": {
     "end_time": "2020-11-08T16:05:25.031251Z",
     "start_time": "2020-11-08T16:05:25.009288Z"
    }
   },
   "outputs": [],
   "source": [
    "# Create visualization image for Landsat 8 median composite\n",
    "vermont_vis_rgb = vermont_summer_median.visualize(\n",
    "    **{\"bands\": [\"B4\", \"B3\", \"B2\"], \"min\": 0, \"max\": 2000}\n",
    ")\n",
    "\n",
    "# Create visualization image for Hansen water mask\n",
    "water_vis = water.visualize(\n",
    "    **{\"palette\": \"blue\", \"max\": 1, \"min\": 0, \"opacity\": 0.75}\n",
    ")\n",
    "\n",
    "# Create mosaic from image visualizations\n",
    "vermont_mosaic = ee.ImageCollection([vermont_vis_rgb, water_vis]).mosaic()\n",
    "vt_boundary_vis = (\n",
    "    ee.Image()\n",
    "    .byte()\n",
    "    .paint(**{\"featureCollection\": vt_boundary, \"color\": 1, \"width\": 3})\n",
    ")"
   ]
  },
  {
   "cell_type": "code",
   "execution_count": null,
   "metadata": {
    "ExecuteTime": {
     "end_time": "2020-11-08T16:05:27.104748Z",
     "start_time": "2020-11-08T16:05:25.033221Z"
    }
   },
   "outputs": [],
   "source": [
    "# Add indiviual visualizations to map\n",
    "vermont_map.addLayer(vermont_vis_rgb, {}, \"Vermont Median RGB Visualization\")\n",
    "vermont_map.addLayer(water_vis, {}, \"Vermont Water Visualization\")\n",
    "\n",
    "# Add mosiac to map\n",
    "vermont_map.addLayer(vermont_mosaic, {}, \"Vermont RGB & Water Mosaic\")\n",
    "\n",
    "# Add RMNP boundary to map\n",
    "vermont_map.addLayer(\n",
    "    vt_boundary_vis, {\"palette\": \"FF0000\"}, \"Vermont Boundary\"\n",
    ")"
   ]
  },
  {
   "cell_type": "code",
   "execution_count": null,
   "metadata": {
    "ExecuteTime": {
     "end_time": "2020-11-08T16:05:27.120708Z",
     "start_time": "2020-11-08T16:05:27.106716Z"
    }
   },
   "outputs": [],
   "source": [
    "# Display map\n",
    "vermont_map"
   ]
  },
  {
   "cell_type": "markdown",
   "metadata": {},
   "source": [
    "## Data Export"
   ]
  },
  {
   "cell_type": "code",
   "execution_count": null,
   "metadata": {
    "ExecuteTime": {
     "end_time": "2020-11-08T16:05:27.129682Z",
     "start_time": "2020-11-08T16:05:27.123666Z"
    }
   },
   "outputs": [],
   "source": [
    "# No data export in this chapter."
   ]
  }
 ],
 "metadata": {
  "kernelspec": {
   "display_name": "Python 3",
   "language": "python",
   "name": "python3"
  },
  "language_info": {
   "codemirror_mode": {
    "name": "ipython",
    "version": 3
   },
   "file_extension": ".py",
   "mimetype": "text/x-python",
   "name": "python",
   "nbconvert_exporter": "python",
   "pygments_lexer": "ipython3",
   "version": "3.8.2"
  },
  "varInspector": {
   "cols": {
    "lenName": 16,
    "lenType": 16,
    "lenVar": 40
   },
   "kernels_config": {
    "python": {
     "delete_cmd_postfix": "",
     "delete_cmd_prefix": "del ",
     "library": "var_list.py",
     "varRefreshCmd": "print(var_dic_list())"
    },
    "r": {
     "delete_cmd_postfix": ") ",
     "delete_cmd_prefix": "rm(",
     "library": "var_list.r",
     "varRefreshCmd": "cat(var_dic_list()) "
    }
   },
   "types_to_exclude": [
    "module",
    "function",
    "builtin_function_or_method",
    "instance",
    "_Feature"
   ],
   "window_display": false
  }
 },
 "nbformat": 4,
 "nbformat_minor": 4
}
