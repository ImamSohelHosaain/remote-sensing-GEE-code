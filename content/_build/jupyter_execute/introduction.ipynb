{
 "cells": [
  {
   "cell_type": "markdown",
   "metadata": {},
   "source": [
    "# Introduction\n",
    "\n",
    "This book provides text and examples for how to use [Google Earth Engine](https://earthengine.google.com/) to work through the remote sensing data workflow:\n",
    "\n",
    "* Acquisition and Preprocessing;\n",
    "* Processing;\n",
    "* Postprocessing;\n",
    "* Visualization; and,\n",
    "* Export.\n",
    "\n",
    "The book includes code in `JavaScript` and `Python` languages for completing remote sensing analyses.\n",
    "\n",
    "Part 1 (beginner) provides introductory modules and activities to introduce Earth Engine functionality. Each example show a few tasks and processes to familiarize the reader with the Earth Engine platform and syntax.\n",
    "\n",
    "Part 2 (intermediate) provides workflows that piece together tasks and processes from Part 2 in order to create more complex and meaningful workflows, and introduces more complex tasks and processes.\n",
    "\n",
    "Part 3 (advanced) provides full scientific workflows in Earth Engine that have been re-created from existing, peer-reviewed papers and/or ongoing remote sensing projects. One of the goals of this book it to promote and provide open and reproducible science workflows, and this chapter is dedicated to creating this type of workflow within the Earth Engine platform.\n"
   ]
  },
  {
   "cell_type": "markdown",
   "metadata": {},
   "source": [
    "\n",
    "```{toctree}\n",
    ":hidden:\n",
    ":titlesonly:\n",
    ":caption: Beginner Workflows\n",
    "\n",
    "01-beginner/chapter01-qualitative-change-detection\n",
    "01-beginner/chapter02-normalized-difference\n",
    "01-beginner/chapter03-image-composites\n",
    "01-beginner/chapter04-image-mosaics\n",
    "01-beginner/chapter05-image-collection-iteration\n",
    "01-beginner/chapter06-cloud-masking\n",
    "01-beginner/chapter07-data-quality-bitmasks\n",
    "```\n",
    "\n",
    "\n",
    "```{toctree}\n",
    ":hidden:\n",
    ":titlesonly:\n",
    ":caption: Intermediate Workflows\n",
    "\n",
    "02-intermediate/chapter08-raster-reprojection-resampling\n",
    "02-intermediate/chapter09-raster-reduce-resolution\n",
    "02-intermediate/chapter10-spectral-indices-math\n",
    "02-intermediate/chapter11-image-region-statistics\n",
    "02-intermediate/chapter12-image-statistics-module\n",
    "02-intermediate/chapter13-data-correlation\n",
    "02-intermediate/chapter14-arrays-tasseled-cap\n",
    "02-intermediate/chapter15-data-conversion-export\n",
    "```\n",
    "\n",
    "\n",
    "```{toctree}\n",
    ":hidden:\n",
    ":titlesonly:\n",
    ":caption: Advanced Workflows\n",
    "\n",
    "03-advanced/chapter16-agriculture-boundaries-vaalharts\n",
    "03-advanced/chapter17-rice-fields-columbia\n",
    "03-advanced/chapter18-alpine-treeline-colorado\n",
    "```\n"
   ]
  }
 ],
 "metadata": {
  "kernelspec": {
   "display_name": "Python 3",
   "language": "python",
   "name": "python3"
  },
  "language_info": {
   "codemirror_mode": {
    "name": "ipython",
    "version": 3
   },
   "file_extension": ".py",
   "mimetype": "text/x-python",
   "name": "python",
   "nbconvert_exporter": "python",
   "pygments_lexer": "ipython3",
   "version": "3.8.2"
  },
  "varInspector": {
   "cols": {
    "lenName": 16,
    "lenType": 16,
    "lenVar": 40
   },
   "kernels_config": {
    "python": {
     "delete_cmd_postfix": "",
     "delete_cmd_prefix": "del ",
     "library": "var_list.py",
     "varRefreshCmd": "print(var_dic_list())"
    },
    "r": {
     "delete_cmd_postfix": ") ",
     "delete_cmd_prefix": "rm(",
     "library": "var_list.r",
     "varRefreshCmd": "cat(var_dic_list()) "
    }
   },
   "types_to_exclude": [
    "module",
    "function",
    "builtin_function_or_method",
    "instance",
    "_Feature"
   ],
   "window_display": false
  }
 },
 "nbformat": 4,
 "nbformat_minor": 4
}