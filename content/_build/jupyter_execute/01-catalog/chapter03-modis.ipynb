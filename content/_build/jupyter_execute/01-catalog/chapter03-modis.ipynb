{
 "cells": [
  {
   "cell_type": "markdown",
   "metadata": {},
   "source": [
    "# Chapter 3: MODIS Collections\n",
    "\n",
    "[MODIS](https://developers.google.com/earth-engine/datasets/catalog/modis) collections.\n",
    "\n",
    "## Daily Products\n",
    "\n",
    "* MCD43A4.006 MODIS Nadir BRDF-Adjusted Reflectance Daily 500m\n",
    "* MCD43A3.006 MODIS Albedo Daily 500m\n",
    "* MCD43A2.006 MODIS BRDF-Albedo Quality Daily 500m\n",
    "* MOD09GQ.006 Terra Surface Reflectance Daily Global 250m\n",
    "* MOD10A1.006 Terra Snow Cover Daily Global 500m\n",
    "* MOD11A1.006 Terra Land Surface Temperature and Emissivity Daily Global 1km\n",
    "* MOD09GA.006 Terra Surface Reflectance Daily Global 1km and 500m\n",
    "* MODOCGA.006 Terra Ocean Reflectance Daily Global 1km\n",
    "* MOD14A1.006: Terra Thermal Anomalies & Fire Daily Global 1km\n",
    "* MCD43A1.006 MODIS BRDF-Albedo Model Parameters Daily 500m\n",
    "\n",
    "## Derived Datasets\n",
    "\n",
    "* MCD15A3H.006 MODIS Leaf Area Index/FPAR 4-Day Global 500m\n",
    "* MOD09Q1.006 Terra Surface Reflectance 8-Day Global 250m\n",
    "* MOD09A1.006 Terra Surface Reflectance 8-Day Global 500m\n",
    "* MOD11A2.006 Terra Land Surface Temperature and Emissivity 8-Day Global 1km\n",
    "* MOD14A2.006: Terra Thermal Anomalies & Fire 8-Day Global 1km\n",
    "* MOD17A2H.006: Terra Gross Primary Productivity 8-Day Global 500m\n",
    "* MOD16A2.006: Terra Net Evapotranspiration 8-Day Global 500m\n",
    "* MOD13Q1.006 Terra Vegetation Indices 16-Day Global 250m\n",
    "* MOD13A1.006 Terra Vegetation Indices 16-Day Global 500m\n",
    "* MOD13A2.006 Terra Vegetation Indices 16-Day Global 1km\n",
    "* MCD64A1.006 MODIS Burned Area Monthly Global 500m\n",
    "* MOD08_M3.006 Terra Atmosphere Monthly Global Product\n",
    "* MCD12Q1.006 MODIS Land Cover Type Yearly Global 500m\n",
    "* MOD17A3H.006: Terra Net Primary Production Yearly Global 500m\n",
    "* MOD44W.006 Terra Land Water Mask Derived from MODIS and SRTM Yearly Global 250m\n",
    "\n",
    "## Specifications and Quality\n",
    "\n",
    "The MODIS [User Guide V006](https://www.umb.edu/spectralmass/terra_aqua_modis/v006) outlines the file specifications and available products.\n",
    "\n",
    "The MCD43A2 BRDF/Albedo Quality Product [section](https://www.umb.edu/spectralmass/terra_aqua_modis/v006/mcd43a2_albedo_product) of the user guide introduces the quality information."
   ]
  }
 ],
 "metadata": {
  "kernelspec": {
   "display_name": "Python 3",
   "language": "python",
   "name": "python3"
  },
  "language_info": {
   "codemirror_mode": {
    "name": "ipython",
    "version": 3
   },
   "file_extension": ".py",
   "mimetype": "text/x-python",
   "name": "python",
   "nbconvert_exporter": "python",
   "pygments_lexer": "ipython3",
   "version": "3.8.2"
  },
  "toc": {
   "base_numbering": 1,
   "nav_menu": {},
   "number_sections": true,
   "sideBar": true,
   "skip_h1_title": false,
   "title_cell": "Table of Contents",
   "title_sidebar": "Contents",
   "toc_cell": false,
   "toc_position": {},
   "toc_section_display": true,
   "toc_window_display": false
  },
  "varInspector": {
   "cols": {
    "lenName": 16,
    "lenType": 16,
    "lenVar": 40
   },
   "kernels_config": {
    "python": {
     "delete_cmd_postfix": "",
     "delete_cmd_prefix": "del ",
     "library": "var_list.py",
     "varRefreshCmd": "print(var_dic_list())"
    },
    "r": {
     "delete_cmd_postfix": ") ",
     "delete_cmd_prefix": "rm(",
     "library": "var_list.r",
     "varRefreshCmd": "cat(var_dic_list()) "
    }
   },
   "types_to_exclude": [
    "module",
    "function",
    "builtin_function_or_method",
    "instance",
    "_Feature"
   ],
   "window_display": false
  }
 },
 "nbformat": 4,
 "nbformat_minor": 4
}