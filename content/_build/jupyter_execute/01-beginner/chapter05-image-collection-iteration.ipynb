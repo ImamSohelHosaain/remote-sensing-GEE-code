{
 "cells": [
  {
   "cell_type": "markdown",
   "metadata": {},
   "source": [
    "# Chapter 5: Image Collection Iteration"
   ]
  },
  {
   "cell_type": "markdown",
   "metadata": {},
   "source": [
    "## Environment Setup"
   ]
  },
  {
   "cell_type": "code",
   "execution_count": null,
   "metadata": {
    "ExecuteTime": {
     "end_time": "2020-11-08T19:13:29.631050Z",
     "start_time": "2020-11-08T19:13:29.624066Z"
    }
   },
   "outputs": [],
   "source": [
    "def initialize_earth_engine():\n",
    "    \"\"\"Initializes the Earth Engine Python API.\n",
    "    \n",
    "    Returns\n",
    "    -------\n",
    "    str\n",
    "    \n",
    "    Example\n",
    "    -------\n",
    "        >>> import ee\n",
    "        >>> initialize_earth_engine()\n",
    "        Imported ee. Initialized Earth Engine Python API.\n",
    "    \"\"\"\n",
    "    # Import ee if not already imported\n",
    "    import sys\n",
    "\n",
    "    if \"ee\" not in sys.modules:\n",
    "        import ee\n",
    "\n",
    "        global ee\n",
    "\n",
    "    # Initialize Earth Engine Python API\n",
    "    try:\n",
    "        ee.Initialize()\n",
    "    except Exception:\n",
    "        ee.Authenticate()\n",
    "        ee.Initialize()\n",
    "\n",
    "    return print(\"Imported ee. Initialized Earth Engine Python API.\")"
   ]
  },
  {
   "cell_type": "code",
   "execution_count": null,
   "metadata": {
    "ExecuteTime": {
     "end_time": "2020-11-08T19:13:29.643016Z",
     "start_time": "2020-11-08T19:13:29.634040Z"
    }
   },
   "outputs": [],
   "source": [
    "def import_geemap():\n",
    "    \"\"\"Imports the geemap package (environment-dependent, Google Colab\n",
    "    vs. Jupyter/Binder).\n",
    "    \n",
    "    Returns\n",
    "    -------\n",
    "    environment : str\n",
    "        Message indicating the geemap has been imported into the\n",
    "        environment. The message differs based on the environment.\n",
    "    \n",
    "    Example\n",
    "    -------\n",
    "        >>> import_geemap()\n",
    "        Notebook running in Jupyter/Binder. Imported geemap as gm.\n",
    "    \"\"\"\n",
    "    # Check for Google Colab\n",
    "    try:\n",
    "        import google.colab\n",
    "    # Notebook running in Jupyter/Binder\n",
    "    except ImportError:\n",
    "        running_in_colab = False\n",
    "    # Notebook running in Google Colab\n",
    "    else:\n",
    "        running_in_colab = True\n",
    "\n",
    "    # Import geemap based on environment (Google Colab vs. Jupyter/Binder)\n",
    "    if running_in_colab:\n",
    "        import subprocess\n",
    "\n",
    "        subprocess.check_call([\"python\", \"-m\", \"pip\", \"install\", \"geemap\"])\n",
    "        import geemap.eefolium as gm\n",
    "\n",
    "        global gm\n",
    "        environment = print(\n",
    "            \"Notebook running in Google Colab. Imported geemap.folium as gm.\"\n",
    "        )\n",
    "    else:\n",
    "        import geemap as gm\n",
    "\n",
    "        global gm\n",
    "        environment = print(\n",
    "            \"Notebook running in Jupyter/Binder. Imported geemap as gm.\"\n",
    "        )\n",
    "\n",
    "    return environment"
   ]
  },
  {
   "cell_type": "code",
   "execution_count": null,
   "metadata": {
    "ExecuteTime": {
     "end_time": "2020-11-08T19:13:29.653986Z",
     "start_time": "2020-11-08T19:13:29.646007Z"
    }
   },
   "outputs": [],
   "source": [
    "def add_ndvi(image):\n",
    "    \"\"\"Calculates and adds the NDVI band to a Landsat 8 image.\n",
    "    \n",
    "    Parameters\n",
    "    ----------\n",
    "    image : ee.image.Image object\n",
    "        Landsat 8 image.\n",
    "        \n",
    "    Returns\n",
    "    -------\n",
    "    image_ndvi : ee.image.Image object\n",
    "        Input landsat 8 image with the NDVI band added, named 'NDVI'.\n",
    "        \n",
    "    Example\n",
    "    -------\n",
    "        >>>\n",
    "        >>>\n",
    "        >>>\n",
    "        >>>\n",
    "    \"\"\"\n",
    "    # Calculate and add NDVI band\n",
    "    image_ndvi = image.addBands(\n",
    "        image.normalizedDifference([\"B5\", \"B4\"]).rename(\"NDVI\")\n",
    "    )\n",
    "\n",
    "    return image_ndvi"
   ]
  },
  {
   "cell_type": "code",
   "execution_count": null,
   "metadata": {
    "ExecuteTime": {
     "end_time": "2020-11-08T19:13:29.664956Z",
     "start_time": "2020-11-08T19:13:29.655981Z"
    }
   },
   "outputs": [],
   "source": [
    "def accumulate(image, image_list):\n",
    "    \"\"\"\n",
    "    Parameters\n",
    "    ----------\n",
    "    image : ee.image.Image object\n",
    "        Landsat 8 image.\n",
    "        \n",
    "    image_list : ee.ee_list.List object\n",
    "        List with initialized image.\n",
    "    \n",
    "    Returns\n",
    "    -------\n",
    "    cumulative_list : ee.ee_list.List object\n",
    "        Input listt with the cumulative anomaly added.\n",
    "    \n",
    "    Example\n",
    "    -------\n",
    "        >>>\n",
    "        >>>\n",
    "        >>>\n",
    "        >>>\n",
    "    \"\"\"\n",
    "    # Get the latest cumulative anomaly image from the end of the list with\n",
    "    #  get(-1). Since the type of the list argument to the function is unknown,\n",
    "    #  it needs to be cast to a List. Since the return type of get() is\n",
    "    #  unknown, cast it to Image\n",
    "    previous = ee.Image(ee.List(image_list).get(-1))\n",
    "\n",
    "    # Add the current anomaly to make a new cumulative anomaly image,\n",
    "    #  propagate metadata to the new image\n",
    "    added = image.add(previous).set(\n",
    "        \"system:time_start\", image.get(\"system:time_start\")\n",
    "    )\n",
    "\n",
    "    # Get final list\n",
    "    cumulative_list = ee.List(image_list).add(added)\n",
    "\n",
    "    return cumulative_list"
   ]
  },
  {
   "cell_type": "code",
   "execution_count": null,
   "metadata": {
    "ExecuteTime": {
     "end_time": "2020-11-08T19:13:29.674933Z",
     "start_time": "2020-11-08T19:13:29.667961Z"
    }
   },
   "outputs": [],
   "source": [
    "def clip_to_rmnp(image):\n",
    "    \"\"\"Helper function for the NDVI difference accumulation.\n",
    "    \"\"\"\n",
    "    # Clip image to RMNP boundary\n",
    "    clipped = image.clip(rmnp_boundary)\n",
    "\n",
    "    return clipped"
   ]
  },
  {
   "cell_type": "code",
   "execution_count": null,
   "metadata": {
    "ExecuteTime": {
     "end_time": "2020-11-08T19:13:29.684903Z",
     "start_time": "2020-11-08T19:13:29.677923Z"
    }
   },
   "outputs": [],
   "source": [
    "def subtract_ndvi_mean(image):\n",
    "    \"\"\"Helper function for the NDVI difference accumulation.\n",
    "    \"\"\"\n",
    "    # Subtract NDVI mean from image\n",
    "    subtracted = image.subtract(rmnp_summer_ndvi_mean).set(\n",
    "        \"system:time_start\", image.get(\"system:time_start\")\n",
    "    )\n",
    "\n",
    "    return subtracted"
   ]
  },
  {
   "cell_type": "code",
   "execution_count": null,
   "metadata": {
    "ExecuteTime": {
     "end_time": "2020-11-08T19:13:31.471330Z",
     "start_time": "2020-11-08T19:13:29.688893Z"
    }
   },
   "outputs": [],
   "source": [
    "# Initialize Earth Engine Python API\n",
    "initialize_earth_engine()"
   ]
  },
  {
   "cell_type": "code",
   "execution_count": null,
   "metadata": {
    "ExecuteTime": {
     "end_time": "2020-11-08T19:13:32.635690Z",
     "start_time": "2020-11-08T19:13:31.474329Z"
    }
   },
   "outputs": [],
   "source": [
    "# Import geemap\n",
    "import_geemap()"
   ]
  },
  {
   "cell_type": "markdown",
   "metadata": {},
   "source": [
    "## Data Acquisition and Preprocessing"
   ]
  },
  {
   "cell_type": "code",
   "execution_count": null,
   "metadata": {
    "ExecuteTime": {
     "end_time": "2020-11-08T19:13:32.646376Z",
     "start_time": "2020-11-08T19:13:32.637684Z"
    }
   },
   "outputs": [],
   "source": [
    "# Set boundary for Rocky Mountain National Park, Colorado (from GEE Asset)\n",
    "rmnp_boundary = ee.FeatureCollection(\n",
    "    \"users/calekochenour/Rocky_Mountain_National_Park__Boundary_Polygon\"\n",
    ")\n",
    "\n",
    "# Get Landsat 8 collection\n",
    "landsat8_t1_sr = ee.ImageCollection(\"LANDSAT/LC08/C01/T1_SR\")\n",
    "\n",
    "# Add NDVI band to each image in the collection (with mapping)\n",
    "landsat8_t1_sr_ndvi = landsat8_t1_sr.map(add_ndvi).select(\"NDVI\")\n",
    "\n",
    "# Filter Landsat 8 NDVI collection for June-September for 2013-2018\n",
    "#  (baseline/reference data)\n",
    "rmnp_summer_ndvi = (\n",
    "    landsat8_t1_sr_ndvi.filter(ee.Filter.calendarRange(2013, 2018, \"year\"))\n",
    "    .filter(ee.Filter.calendarRange(6, 9, \"month\"))\n",
    "    .filterBounds(rmnp_boundary)\n",
    "    .sort(\"system:time_start\", False)\n",
    ")"
   ]
  },
  {
   "cell_type": "markdown",
   "metadata": {},
   "source": [
    "## Data Processing"
   ]
  },
  {
   "cell_type": "code",
   "execution_count": null,
   "metadata": {
    "ExecuteTime": {
     "end_time": "2020-11-08T19:13:48.866034Z",
     "start_time": "2020-11-08T19:13:32.648372Z"
    }
   },
   "outputs": [],
   "source": [
    "# Compute mean for the entire NDVI collection; clip to RMNP\n",
    "rmnp_summer_ndvi_mean = rmnp_summer_ndvi.mean().clip(rmnp_boundary)\n",
    "\n",
    "# Compute NDVI difference (image - reference mean) series for all images\n",
    "#  post-baseline (2019-2020)\n",
    "rmnp_ndvi_diff_series = (\n",
    "    landsat8_t1_sr_ndvi.filter(ee.Filter.calendarRange(2019, 2020, \"year\"))\n",
    "    .filter(ee.Filter.calendarRange(6, 9, \"month\"))\n",
    "    .filterBounds(rmnp_boundary)\n",
    "    .map(clip_to_rmnp)\n",
    "    .map(subtract_ndvi_mean)\n",
    ")\n",
    "\n",
    "# Compute min and max accumulated NDVI difference (for plotting min/max)\n",
    "ndvi_diff_min = ee.Number(\n",
    "    rmnp_ndvi_diff_series.sum()\n",
    "    .reduceRegion(\n",
    "        **{\n",
    "            \"reducer\": ee.Reducer.min(),\n",
    "            \"geometry\": rmnp_boundary.geometry(),\n",
    "            \"scale\": 30,\n",
    "            \"maxPixels\": 1e9,\n",
    "        }\n",
    "    )\n",
    "    .get(\"NDVI\")\n",
    ")\n",
    "\n",
    "ndvi_diff_max = ee.Number(\n",
    "    rmnp_ndvi_diff_series.sum()\n",
    "    .reduceRegion(\n",
    "        **{\n",
    "            \"reducer\": ee.Reducer.max(),\n",
    "            \"geometry\": rmnp_boundary.geometry(),\n",
    "            \"scale\": 30,\n",
    "            \"maxPixels\": 1e9,\n",
    "        }\n",
    "    )\n",
    "    .get(\"NDVI\")\n",
    ")\n",
    "\n",
    "# Get the timestamp from the most recent image in the reference collection\n",
    "time_0 = rmnp_summer_ndvi.first().get(\"system:time_start\")\n",
    "\n",
    "print(f\"Minimum Accumulated NDVI Difference: {ndvi_diff_min.getInfo()}\")\n",
    "print(f\"Maximum Accumulated NDVI Difference: {ndvi_diff_max.getInfo()}\")\n",
    "print(f\"Time Zero: {time_0.getInfo()}\")\n",
    "\n",
    "# Initialize difference (anomaly) accumulation to 0 (image with all 0s and\n",
    "#  timestamp time_0); rename the first band from 'constant' (default) to 'NDVI'\n",
    "initialized_accumulation = ee.List(\n",
    "    [\n",
    "        ee.Image(0)\n",
    "        .set(\"system:time_start\", time_0)\n",
    "        .select([0], [\"NDVI\"])\n",
    "        .clip(rmnp_boundary)\n",
    "    ]\n",
    ")\n",
    "\n",
    "print(f\"Initialzed accumulation: {initialized_accumulation.getInfo()}\")\n",
    "print(f\"Type: {initialized_accumulation.name()}\")\n",
    "\n",
    "# Create an ImageCollection of cumulative anomaly images (NDVI differences)\n",
    "# Cast return object of .iterate() to type List, as it is by default unknown\n",
    "#  (ComputedObject)\n",
    "# .iterate() takes a function as param 1 and the initial state as param 2\n",
    "ndvi_diff_cumulative = ee.ImageCollection(\n",
    "    ee.List(\n",
    "        rmnp_ndvi_diff_series.iterate(accumulate, initialized_accumulation)\n",
    "    )\n",
    ")\n",
    "\n",
    "print(\n",
    "    f\"Accumulated collection via iteration: {ndvi_diff_cumulative.getInfo()}\"\n",
    ")\n",
    "print(\n",
    "    f\"Accumulated collection via iteration type: {ndvi_diff_cumulative.name()}\"\n",
    ")"
   ]
  },
  {
   "cell_type": "markdown",
   "metadata": {},
   "source": [
    "## Data Postprocessing"
   ]
  },
  {
   "cell_type": "code",
   "execution_count": null,
   "metadata": {
    "ExecuteTime": {
     "end_time": "2020-11-08T19:13:48.873007Z",
     "start_time": "2020-11-08T19:13:48.869019Z"
    }
   },
   "outputs": [],
   "source": [
    "# No data postprocessing in this chapter."
   ]
  },
  {
   "cell_type": "markdown",
   "metadata": {},
   "source": [
    "## Data Visualization"
   ]
  },
  {
   "cell_type": "code",
   "execution_count": null,
   "metadata": {
    "ExecuteTime": {
     "end_time": "2020-11-08T19:13:49.960098Z",
     "start_time": "2020-11-08T19:13:48.875999Z"
    }
   },
   "outputs": [],
   "source": [
    "# Create interactive map for visualization and set options\n",
    "if \"rmnp_map\" in globals():\n",
    "    del rmnp_map\n",
    "    rmnp_map = gm.Map()\n",
    "    rmnp_map.setOptions(\"SATELLITE\")\n",
    "    rmnp_map.setCenter(lon=-105.6836, lat=40.3428, zoom=10)\n",
    "else:\n",
    "    rmnp_map = gm.Map()\n",
    "    rmnp_map.setOptions(\"SATELLITE\")\n",
    "    rmnp_map.setCenter(lon=-105.6836, lat=40.3428, zoom=10)"
   ]
  },
  {
   "cell_type": "code",
   "execution_count": null,
   "metadata": {
    "ExecuteTime": {
     "end_time": "2020-11-08T19:13:49.968077Z",
     "start_time": "2020-11-08T19:13:49.962093Z"
    }
   },
   "outputs": [],
   "source": [
    "# Set visualization parameters\n",
    "vis_params_ndvi = {\"min\": -1, \"max\": 1, \"palette\": [\"blue\", \"white\", \"green\"]}\n",
    "\n",
    "# Set RMNP boundary visualization parameters\n",
    "rmnp_boundary_vis = (\n",
    "    ee.Image()\n",
    "    .byte()\n",
    "    .paint(**{\"featureCollection\": rmnp_boundary, \"color\": 1, \"width\": 3})\n",
    ")"
   ]
  },
  {
   "cell_type": "code",
   "execution_count": null,
   "metadata": {
    "ExecuteTime": {
     "end_time": "2020-11-08T19:13:56.839790Z",
     "start_time": "2020-11-08T19:13:49.970072Z"
    }
   },
   "outputs": [],
   "source": [
    "# Add layers to map\n",
    "rmnp_map.addLayer(\n",
    "    rmnp_summer_ndvi_mean,\n",
    "    vis_params_ndvi,\n",
    "    \"Landsat 8 - NDVI Mean - Jun/Sep 2013/2020\",\n",
    ")\n",
    "\n",
    "# Display accumulated NDVI differences (anomalies from 6-year mean)\n",
    "rmnp_map.addLayer(\n",
    "    rmnp_ndvi_diff_series.sum(),\n",
    "    {\n",
    "        \"min\": -2.5899382242647437,\n",
    "        \"max\": 2.548139614675886,\n",
    "        \"palette\": [\"FF0000\", \"000000\", \"00FF00\"],\n",
    "    },\n",
    "    \"Cumulative NDVI Difference\",\n",
    ")\n",
    "\n",
    "# Add RMNP boundary to map\n",
    "rmnp_map.addLayer(rmnp_boundary_vis, {\"palette\": \"FF0000\"}, \"RMNP Boundary\")"
   ]
  },
  {
   "cell_type": "code",
   "execution_count": null,
   "metadata": {
    "ExecuteTime": {
     "end_time": "2020-11-08T19:13:56.852768Z",
     "start_time": "2020-11-08T19:13:56.842781Z"
    }
   },
   "outputs": [],
   "source": [
    "# Display map\n",
    "rmnp_map"
   ]
  },
  {
   "cell_type": "markdown",
   "metadata": {},
   "source": [
    "## Data Export"
   ]
  },
  {
   "cell_type": "code",
   "execution_count": null,
   "metadata": {
    "ExecuteTime": {
     "end_time": "2020-11-08T19:13:56.861797Z",
     "start_time": "2020-11-08T19:13:56.854746Z"
    }
   },
   "outputs": [],
   "source": [
    "# No data export in this chapter."
   ]
  }
 ],
 "metadata": {
  "kernelspec": {
   "display_name": "Python 3",
   "language": "python",
   "name": "python3"
  },
  "language_info": {
   "codemirror_mode": {
    "name": "ipython",
    "version": 3
   },
   "file_extension": ".py",
   "mimetype": "text/x-python",
   "name": "python",
   "nbconvert_exporter": "python",
   "pygments_lexer": "ipython3",
   "version": "3.8.2"
  },
  "varInspector": {
   "cols": {
    "lenName": 16,
    "lenType": 16,
    "lenVar": 40
   },
   "kernels_config": {
    "python": {
     "delete_cmd_postfix": "",
     "delete_cmd_prefix": "del ",
     "library": "var_list.py",
     "varRefreshCmd": "print(var_dic_list())"
    },
    "r": {
     "delete_cmd_postfix": ") ",
     "delete_cmd_prefix": "rm(",
     "library": "var_list.r",
     "varRefreshCmd": "cat(var_dic_list()) "
    }
   },
   "types_to_exclude": [
    "module",
    "function",
    "builtin_function_or_method",
    "instance",
    "_Feature"
   ],
   "window_display": false
  }
 },
 "nbformat": 4,
 "nbformat_minor": 4
}