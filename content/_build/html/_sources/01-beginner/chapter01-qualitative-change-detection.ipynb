{
 "cells": [
  {
   "cell_type": "markdown",
   "metadata": {},
   "source": [
    "# Chapter 1: Qualitative Change Detection"
   ]
  },
  {
   "cell_type": "markdown",
   "metadata": {},
   "source": [
    "## Environment Setup"
   ]
  },
  {
   "cell_type": "code",
   "execution_count": null,
   "metadata": {
    "ExecuteTime": {
     "end_time": "2020-11-08T01:35:49.905102Z",
     "start_time": "2020-11-08T01:35:49.897124Z"
    }
   },
   "outputs": [],
   "source": [
    "def initialize_earth_engine():\n",
    "    \"\"\"Initializes the Earth Engine Python API.\n",
    "    \n",
    "    Returns\n",
    "    -------\n",
    "    str\n",
    "    \n",
    "    Example\n",
    "    -------\n",
    "        >>> import ee\n",
    "        >>> initialize_earth_engine()\n",
    "        Imported ee. Initialized Earth Engine Python API.\n",
    "    \"\"\"\n",
    "    # Import ee if not already imported\n",
    "    import sys\n",
    "    if \"ee\" not in sys.modules:\n",
    "        import ee\n",
    "        global ee\n",
    "\n",
    "    # Initialize Earth Engine Python API\n",
    "    try:\n",
    "        ee.Initialize()\n",
    "    except Exception:\n",
    "        ee.Authenticate()\n",
    "        ee.Initialize()\n",
    "\n",
    "    return print(\"Imported ee. Initialized Earth Engine Python API.\")"
   ]
  },
  {
   "cell_type": "code",
   "execution_count": null,
   "metadata": {
    "ExecuteTime": {
     "end_time": "2020-11-08T01:35:49.918068Z",
     "start_time": "2020-11-08T01:35:49.909092Z"
    }
   },
   "outputs": [],
   "source": [
    "def import_geemap():\n",
    "    \"\"\"Imports the geemap package (environment-dependent, Google Colab\n",
    "    vs. Jupyter/Binder).\n",
    "    \n",
    "    Returns\n",
    "    -------\n",
    "    environment : str\n",
    "        Message indicating the geemap has been imported into the\n",
    "        environment. The message differs based on the environment.\n",
    "    \n",
    "    Example\n",
    "    -------\n",
    "        >>> import_geemap()\n",
    "        Notebook running in Jupyter/Binder. Imported geemap as gm.\n",
    "    \"\"\"\n",
    "    # Check for Google Colab\n",
    "    try:\n",
    "        import google.colab\n",
    "    # Notebook running in Jupyter/Binder\n",
    "    except ImportError:\n",
    "        running_in_colab = False\n",
    "    # Notebook running in Google Colab\n",
    "    else:\n",
    "        running_in_colab = True\n",
    "\n",
    "    # Import geemap based on environment (Google Colab vs. Jupyter/Binder)\n",
    "    if running_in_colab:\n",
    "        import subprocess\n",
    "        subprocess.check_call([\"python\", \"-m\", \"pip\", \"install\", \"geemap\"])\n",
    "        import geemap.eefolium as gm\n",
    "        global gm\n",
    "        environment = print(\n",
    "            \"Notebook running in Google Colab. Imported geemap.folium as gm.\"\n",
    "        )\n",
    "    else:\n",
    "        import geemap as gm\n",
    "        global gm\n",
    "        environment = print(\n",
    "            \"Notebook running in Jupyter/Binder. Imported geemap as gm.\"\n",
    "        )\n",
    "    \n",
    "    return environment"
   ]
  },
  {
   "cell_type": "code",
   "execution_count": null,
   "metadata": {
    "ExecuteTime": {
     "end_time": "2020-11-08T01:35:51.424107Z",
     "start_time": "2020-11-08T01:35:49.920081Z"
    }
   },
   "outputs": [],
   "source": [
    "# Initialize Earth Engine Python API\n",
    "initialize_earth_engine()"
   ]
  },
  {
   "cell_type": "code",
   "execution_count": null,
   "metadata": {
    "ExecuteTime": {
     "end_time": "2020-11-08T01:35:52.416584Z",
     "start_time": "2020-11-08T01:35:51.428066Z"
    }
   },
   "outputs": [],
   "source": [
    "# Import geemap\n",
    "import_geemap()"
   ]
  },
  {
   "cell_type": "markdown",
   "metadata": {},
   "source": [
    "## Data Acquisition and Preprocessing"
   ]
  },
  {
   "cell_type": "code",
   "execution_count": null,
   "metadata": {
    "ExecuteTime": {
     "end_time": "2020-11-08T01:35:52.586948Z",
     "start_time": "2020-11-08T01:35:52.560998Z"
    }
   },
   "outputs": [],
   "source": [
    "# Get boundary for Rocky Mountain National Park, Colorado\n",
    "rmnp_boundary = ee.FeatureCollection(\n",
    "    \"users/calekochenour/Rocky_Mountain_National_Park__Boundary_Polygon\"\n",
    ")\n",
    "\n",
    "# Get Landsat 8 collection\n",
    "landsat8_t1_sr = ee.ImageCollection(\"LANDSAT/LC08/C01/T1_SR\")\n",
    "\n",
    "# Filter Landsat 8 Tier 1 SR to snow-on conditions near RMNP, 2018\n",
    "co_snow_on_2018 = (\n",
    "    landsat8_t1_sr.filterDate(\"2018-03-01\", \"2018-04-30\")\n",
    "    .filterBounds(rmnp_boundary)\n",
    "    .sort(\"CLOUD_COVER\")\n",
    "    .first()\n",
    ")\n",
    "\n",
    "# Filter Landsat 8 Tier 1 SR to snow-off conditions near RMNP, 2018\n",
    "co_snow_off_2018 = (\n",
    "    landsat8_t1_sr.filterDate(\"2018-07-01\", \"2018-08-31\")\n",
    "    .filterBounds(rmnp_boundary)\n",
    "    .sort(\"CLOUD_COVER\")\n",
    "    .first()\n",
    ")\n",
    "\n",
    "# Clip snow-on and snow-off imagery to RMNP boundary\n",
    "rmnp_snow_on_2018 = co_snow_on_2018.clip(rmnp_boundary)\n",
    "rmnp_snow_off_2018 = co_snow_off_2018.clip(rmnp_boundary)"
   ]
  },
  {
   "cell_type": "markdown",
   "metadata": {},
   "source": [
    "## Data Processing"
   ]
  },
  {
   "cell_type": "markdown",
   "metadata": {},
   "source": [
    "No data processsing in this chapter.\n"
   ]
  },
  {
   "cell_type": "markdown",
   "metadata": {},
   "source": [
    "## Data Postprocessing"
   ]
  },
  {
   "cell_type": "markdown",
   "metadata": {},
   "source": [
    "No data postprocessing in this chapter."
   ]
  },
  {
   "cell_type": "markdown",
   "metadata": {},
   "source": [
    "## Data Visualization"
   ]
  },
  {
   "cell_type": "code",
   "execution_count": null,
   "metadata": {
    "ExecuteTime": {
     "end_time": "2020-11-08T01:35:53.665471Z",
     "start_time": "2020-11-08T01:35:52.590918Z"
    }
   },
   "outputs": [],
   "source": [
    "# Create interactive map for visualization and set options\n",
    "if \"rmnp_map\" in globals():\n",
    "    del rmnp_map\n",
    "    rmnp_map = gm.Map()\n",
    "    rmnp_map.setOptions(\"SATELLITE\")\n",
    "    rmnp_map.setCenter(lon=-105.6836, lat=40.3428, zoom=10)\n",
    "else:\n",
    "    rmnp_map = gm.Map()\n",
    "    rmnp_map.setOptions(\"SATELLITE\")\n",
    "    rmnp_map.setCenter(lon=-105.6836, lat=40.3428, zoom=10)"
   ]
  },
  {
   "cell_type": "code",
   "execution_count": null,
   "metadata": {
    "ExecuteTime": {
     "end_time": "2020-11-08T01:35:55.902889Z",
     "start_time": "2020-11-08T01:35:53.668464Z"
    }
   },
   "outputs": [],
   "source": [
    "# Define Landsat visualization parameters\n",
    "l8_vis_params_rgb = {\"bands\": [\"B4\", \"B3\", \"B2\"], \"min\": 0, \"max\": 3000}\n",
    "l8_vis_params_cir = {\"bands\": [\"B5\", \"B4\", \"B3\"], \"min\": 0, \"max\": 3000}\n",
    "\n",
    "# Define RMNP boundary visualization parameters\n",
    "rmnp_boundary_vis = (\n",
    "    ee.Image()\n",
    "    .byte()\n",
    "    .paint(**{\"featureCollection\": rmnp_boundary, \"color\": 1, \"width\": 3})\n",
    ")\n",
    "\n",
    "# Add snow-on and snow-off images to map, RGB and CIR\n",
    "rmnp_map.addLayer(\n",
    "    rmnp_snow_on_2018,\n",
    "    l8_vis_params_rgb,\n",
    "    \"Landsat 8 - RGB - 2018 - RMNP - Snow On\",\n",
    ")\n",
    "\n",
    "rmnp_map.addLayer(\n",
    "    rmnp_snow_on_2018,\n",
    "    l8_vis_params_cir,\n",
    "    \"Landsat 8 - CIR - 2018 - RMNP - Snow On\",\n",
    ")\n",
    "\n",
    "rmnp_map.addLayer(\n",
    "    rmnp_snow_off_2018,\n",
    "    l8_vis_params_rgb,\n",
    "    \"Landsat 8 - RGB - 2018 - RMNP - Snow Off\",\n",
    ")\n",
    "\n",
    "rmnp_map.addLayer(\n",
    "    rmnp_snow_off_2018,\n",
    "    l8_vis_params_cir,\n",
    "    \"Landsat 8 - CIR - 2018 - RMNP - Snow Off\",\n",
    ")\n",
    "\n",
    "# Add RMNP boundary to map\n",
    "rmnp_map.addLayer(rmnp_boundary_vis, {\"palette\": \"FF0000\"}, \"RMNP Boundary\")"
   ]
  },
  {
   "cell_type": "code",
   "execution_count": null,
   "metadata": {
    "ExecuteTime": {
     "end_time": "2020-11-08T01:35:55.919325Z",
     "start_time": "2020-11-08T01:35:55.904853Z"
    }
   },
   "outputs": [],
   "source": [
    "# Display map\n",
    "rmnp_map"
   ]
  },
  {
   "cell_type": "markdown",
   "metadata": {},
   "source": [
    "## Data Export"
   ]
  },
  {
   "cell_type": "markdown",
   "metadata": {},
   "source": [
    "No data export in this chapter."
   ]
  }
 ],
 "metadata": {
  "kernelspec": {
   "display_name": "Python 3",
   "language": "python",
   "name": "python3"
  },
  "language_info": {
   "codemirror_mode": {
    "name": "ipython",
    "version": 3
   },
   "file_extension": ".py",
   "mimetype": "text/x-python",
   "name": "python",
   "nbconvert_exporter": "python",
   "pygments_lexer": "ipython3",
   "version": "3.8.2"
  },
  "varInspector": {
   "cols": {
    "lenName": 16,
    "lenType": 16,
    "lenVar": 40
   },
   "kernels_config": {
    "python": {
     "delete_cmd_postfix": "",
     "delete_cmd_prefix": "del ",
     "library": "var_list.py",
     "varRefreshCmd": "print(var_dic_list())"
    },
    "r": {
     "delete_cmd_postfix": ") ",
     "delete_cmd_prefix": "rm(",
     "library": "var_list.r",
     "varRefreshCmd": "cat(var_dic_list()) "
    }
   },
   "types_to_exclude": [
    "module",
    "function",
    "builtin_function_or_method",
    "instance",
    "_Feature"
   ],
   "window_display": false
  }
 },
 "nbformat": 4,
 "nbformat_minor": 4
}
