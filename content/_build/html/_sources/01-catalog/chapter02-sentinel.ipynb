{
 "cells": [
  {
   "cell_type": "markdown",
   "metadata": {},
   "source": [
    "# Chapter 2: Sentinel Collections\n",
    "\n",
    "[Sentinel](https://developers.google.com/earth-engine/datasets/catalog/sentinel) platform.\n",
    "\n",
    "## Sentinel-1\n",
    "\n",
    "[Sentinel-1](https://developers.google.com/earth-engine/datasets/catalog/COPERNICUS_S1_GRD) collection.\n",
    "\n",
    "Short name: Sentinel-1 SAR GRD: C-band Synthetic Aperture Radar\n",
    "\n",
    "* Sentinel-1 SAR GRD: C-band Synthetic Aperture Radar Ground Range Detected, log scaling\n",
    "\n",
    "## Sentinel-2\n",
    "\n",
    "[Sentinel-2](https://developers.google.com/earth-engine/datasets/catalog/sentinel-2) collection.\n",
    "\n",
    "Short name: Sentinel-2 MSI: Multispectral Instrument \n",
    "\n",
    "* Sentinel-2 MSI: MultiSpectral Instrument, Level-2A\n",
    "* Sentinel-2 MSI: MultiSpectral Instrument, Level-1C\n",
    "\n",
    "### Specifications and Quality\n",
    "\n",
    "The Sentinel-2 MSI [user guide](https://sentinel.esa.int/web/sentinel/user-guides/sentinel%202-msi), [user handbook](https://sentinel.esa.int/documents/247904/685211/Sentinel-2_User_Handbook.pdf/8869acdf-fd84-43ec-ae8c-3e80a436a16c?t=1438278087000), and [technical guide](https://sentinel.esa.int/web/sentinel/technical-guides/sentinel-2-msi) provide overview of the products and algorithms within the platform. \n",
    "\n",
    "Specific to the Level-2A processing, the [Level-2 Algorithm Overview](https://sentinel.esa.int/web/sentinel/technical-guides/sentinel-2-msi/level-2a/algorithm) provides additional information about Scene Classification (SC) and Atmospheric Correction (S2A2).\n",
    "\n",
    "The Sentinel-2 MSI [data quality reports (DQRs)](https://sentinel.esa.int/web/sentinel/data-product-quality-reports) provide regular updates about the geometric and radiometric performance of the data products.\n",
    "\n",
    "#### Scene Classification Band\n",
    "\n",
    "```{table} Sentinel-2 MSI Scene Classification Values\n",
    ":name: table:sentinel2-sc-values\n",
    "\n",
    "| Value | Classification |\n",
    "|:-|:-|\n",
    "| 0 | No Data |\n",
    "| 1 | Saturated or Defective |\n",
    "| 2 | Dark Area Pixels |\n",
    "| 3 | Cloud Shadows |\n",
    "| 4 | Vegetation |\n",
    "| 5 | Not Vegetated |\n",
    "| 6 | Water |\n",
    "| 7 | Unclassified |\n",
    "| 8 | Medium Probability Cloud |\n",
    "| 9 | High Probability Cloud |\n",
    "| 10 | Thin Cirrus |\n",
    "| 11 | Snow |\n",
    "\n",
    "```"
   ]
  },
  {
   "cell_type": "markdown",
   "metadata": {},
   "source": [
    "#### Quality Bands\n",
    "\n",
    "```{table} Sentinel-2 MSI Quality Bands\n",
    ":name: table:sentinel2-quality-bands\n",
    "\n",
    "| Band | Description |\n",
    "|:-|:-|\n",
    "| MSK_CLDPRB | Cloud Probability Map|\n",
    "| MSK_SNWPRB | Snow Probability Map |\n",
    "| QA60 | Cloud Mask |\n",
    "\n",
    "```"
   ]
  },
  {
   "cell_type": "markdown",
   "metadata": {},
   "source": [
    "```{table} Sentinel-2 MSI Cloud Mask Bit Index\n",
    ":name: table:sentinel2-cloud-mask-index\n",
    "\n",
    "| Bit | Attribute |\n",
    "|:-|:-|\n",
    "| 10 | Opaque Clouds<br>0 = No Opaque Clouds<br>1 = Opaque Clouds |\n",
    "| 11 | Cirrus Clouds<br>0 = No Cirrus Clouds<br>1 = Cirrus Clouds |\n",
    "        \n",
    "```"
   ]
  },
  {
   "cell_type": "markdown",
   "metadata": {},
   "source": [
    "\n",
    "## Sentinel-3\n",
    "\n",
    "[Sentinel-3](https://developers.google.com/earth-engine/datasets/catalog/COPERNICUS_S3_OLCI) collection.\n",
    "\n",
    "Short name: Sentinel-3 OLCI EFR: Ocean and Land Color Instrument \n",
    "\n",
    "* Sentinel-3 OLCI EFR: Ocean and Land Color Instrument Earth Observation Full Resolution\n",
    "\n",
    "## Sentinel-5P\n",
    "\n",
    "[Sentinel-5P](https://developers.google.com/earth-engine/datasets/catalog/sentinel-5p) collection.\n",
    "\n",
    "Short name: Sentinel-5P TROPOMI: TROPOspheric Monitoring Instrument \n",
    "\n",
    "* Sentinel-5P OFFL AER AI: Offline UV Aerosol Index\n",
    "* Sentinel-5P OFFL CLOUD: Near Real-Time Cloud\n",
    "* Sentinel-5P OFFL CO: Offline Carbon Monoxide\n",
    "* Sentinel-5P OFFL HCHO: Offline Formaldehyde\n",
    "* Sentinel-5P OFFL NO2: Offline Nitrogen Dioxide\n",
    "* Sentinel-5P OFFL O3: Offline Ozone\n",
    "* Sentinel-5P OFFL SO2: Offline Sulphur Dioxide\n",
    "* Sentinel-5P OFFL CH4: Offline Methane"
   ]
  }
 ],
 "metadata": {
  "kernelspec": {
   "display_name": "Python 3",
   "language": "python",
   "name": "python3"
  },
  "language_info": {
   "codemirror_mode": {
    "name": "ipython",
    "version": 3
   },
   "file_extension": ".py",
   "mimetype": "text/x-python",
   "name": "python",
   "nbconvert_exporter": "python",
   "pygments_lexer": "ipython3",
   "version": "3.8.2"
  },
  "toc": {
   "base_numbering": 1,
   "nav_menu": {},
   "number_sections": true,
   "sideBar": true,
   "skip_h1_title": false,
   "title_cell": "Table of Contents",
   "title_sidebar": "Contents",
   "toc_cell": false,
   "toc_position": {},
   "toc_section_display": true,
   "toc_window_display": false
  },
  "varInspector": {
   "cols": {
    "lenName": 16,
    "lenType": 16,
    "lenVar": 40
   },
   "kernels_config": {
    "python": {
     "delete_cmd_postfix": "",
     "delete_cmd_prefix": "del ",
     "library": "var_list.py",
     "varRefreshCmd": "print(var_dic_list())"
    },
    "r": {
     "delete_cmd_postfix": ") ",
     "delete_cmd_prefix": "rm(",
     "library": "var_list.r",
     "varRefreshCmd": "cat(var_dic_list()) "
    }
   },
   "types_to_exclude": [
    "module",
    "function",
    "builtin_function_or_method",
    "instance",
    "_Feature"
   ],
   "window_display": false
  }
 },
 "nbformat": 4,
 "nbformat_minor": 4
}
