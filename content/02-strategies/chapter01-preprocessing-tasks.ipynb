{
 "cells": [
  {
   "cell_type": "markdown",
   "metadata": {},
   "source": [
    "# Chapter 1: Preprocessing Tasks\n",
    "\n",
    "## Find Imagery\n",
    "\n",
    "Criteria to filter collections on include, but are not limited to:\n",
    "\n",
    "* Location (point, bounding box, polygon AOI);\n",
    "* Date or date range;\n",
    "* Other metadata/image properties (cloud cover, sensing time, WRS path/row for Landsat); and/or,\n",
    "* Sorting / getting first image (usually least cloudy).\n",
    "\n",
    "## Create/Add Bands\n",
    "\n",
    "This could be index layers and/or masks. Possible layers include, but are not limited to:\n",
    "\n",
    "* NDVI;\n",
    "* NDWI;\n",
    "* NBR;\n",
    "* Water mask (from manual thresholding / equation or quality band);\n",
    "* Cloud mask (from manual thresholding / equation or quality band); and/or,\n",
    "* Shadow mask (from manual thresholding / equation or quality band).\n",
    "\n",
    "## Mask Pixels\n",
    "\n",
    "Pixels for masking consideration include, but are not limited to: \n",
    "\n",
    "* Water;\n",
    "* Clouds;\n",
    "* Shadows;\n",
    "* Snow;\n",
    "* Terrain Occlusion;\n",
    "* Fill Value;\n",
    "* Invalid Values (outside valid range);\n",
    "* Sensor problems (radiometric saturation QA band and/or Saturate Value);\n",
    "* Scene classification / land cover (from platform band and/or other dataset layers);\n",
    "* Other QA bitmasks / flags (platform- or sensor-dependent, e.g., Mandatory Quality Flag); and/or,\n",
    "* Custom (sensor band or index layers or sensor bands, e.g., NDVI < 0).\n",
    "\n",
    "## Scale Data\n",
    "\n",
    "Look for scale factor in the product specifications. Often a number of type float similar to 0.0001, 0.001, or 0.01, used to scale data to collected sensor values. Unscaled data (of type integer) reduces the data storage size, compared to scaled data (of type float).\n",
    "\n",
    "## Clip Imagery\n",
    "\n",
    "Clip the image or collection to the specific Area of Interest (AOI). This will reduce processing time of analysis tasks."
   ]
  }
 ],
 "metadata": {
  "kernelspec": {
   "display_name": "Python 3",
   "language": "python",
   "name": "python3"
  },
  "language_info": {
   "codemirror_mode": {
    "name": "ipython",
    "version": 3
   },
   "file_extension": ".py",
   "mimetype": "text/x-python",
   "name": "python",
   "nbconvert_exporter": "python",
   "pygments_lexer": "ipython3",
   "version": "3.8.2"
  },
  "toc": {
   "base_numbering": 1,
   "nav_menu": {},
   "number_sections": true,
   "sideBar": true,
   "skip_h1_title": false,
   "title_cell": "Table of Contents",
   "title_sidebar": "Contents",
   "toc_cell": false,
   "toc_position": {},
   "toc_section_display": true,
   "toc_window_display": false
  },
  "varInspector": {
   "cols": {
    "lenName": 16,
    "lenType": 16,
    "lenVar": 40
   },
   "kernels_config": {
    "python": {
     "delete_cmd_postfix": "",
     "delete_cmd_prefix": "del ",
     "library": "var_list.py",
     "varRefreshCmd": "print(var_dic_list())"
    },
    "r": {
     "delete_cmd_postfix": ") ",
     "delete_cmd_prefix": "rm(",
     "library": "var_list.r",
     "varRefreshCmd": "cat(var_dic_list()) "
    }
   },
   "types_to_exclude": [
    "module",
    "function",
    "builtin_function_or_method",
    "instance",
    "_Feature"
   ],
   "window_display": false
  }
 },
 "nbformat": 4,
 "nbformat_minor": 4
}
