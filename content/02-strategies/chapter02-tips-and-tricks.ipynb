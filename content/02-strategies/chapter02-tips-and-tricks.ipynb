{
 "cells": [
  {
   "cell_type": "markdown",
   "metadata": {},
   "source": [
    "# Chapter 2: Tips and Tricks\n",
    "\n",
    "\n",
    "GEE tasks still process when the computer is shut down (processing continues in the cloud). This means the user does not have to supervise the task processing while ongoing.\n",
    "\n",
    "GEE methods to get metadata properties provide a useful way to learn about an image. These methods may also provide ideas for which properties to use for image collection reduction and filtering.\n",
    "\n",
    "```javascript\n",
    "// Get all bands\n",
    "var band_names = image.bandNames();\n",
    "print('Band names: ', band_names); \n",
    "\n",
    "// Get single band (Sentinel-2 MSI)\n",
    "var red = image.select('B4');\n",
    "print('Red band: ', band_names); \n",
    "\n",
    "// Get multiple (but not all) bands (Sentinel-2 MSI)\n",
    "var red_nir = image.select(['B4', 'B8']); \n",
    "print(\"Red and NIR bands: \", red_nir);\n",
    "\n",
    "// Get all metadata properties\n",
    "var properties = image.propertyNames();\n",
    "print('Metadata properties: ', properties);\n",
    "\n",
    "// Get specific metadata property (Sentinel-2 MSI)\n",
    "var cloudiness = image.get('CLOUDY_PIXEL_PERCENTAGE');\n",
    "print('CLOUDY_PIXEL_PERCENTAGE: ', cloudiness);\n",
    "\n",
    "// Get timestamp and convert to date\n",
    "var date = ee.Date(image.get('system:time_start'));\n",
    "print('Timestamp: ', date);\n",
    "\n",
    "// Get object type\n",
    "var image_type = image.name();\n",
    "print('Image object type: ', image_type);\n",
    "\n",
    "// Get image geometry\n",
    "var image_geometry = image.geometry();\n",
    "print('Image geometry:', image_geometry)\n",
    "```"
   ]
  }
 ],
 "metadata": {
  "kernelspec": {
   "display_name": "Python 3",
   "language": "python",
   "name": "python3"
  },
  "language_info": {
   "codemirror_mode": {
    "name": "ipython",
    "version": 3
   },
   "file_extension": ".py",
   "mimetype": "text/x-python",
   "name": "python",
   "nbconvert_exporter": "python",
   "pygments_lexer": "ipython3",
   "version": "3.8.2"
  },
  "toc": {
   "base_numbering": 1,
   "nav_menu": {},
   "number_sections": true,
   "sideBar": true,
   "skip_h1_title": false,
   "title_cell": "Table of Contents",
   "title_sidebar": "Contents",
   "toc_cell": false,
   "toc_position": {},
   "toc_section_display": true,
   "toc_window_display": false
  },
  "varInspector": {
   "cols": {
    "lenName": 16,
    "lenType": 16,
    "lenVar": 40
   },
   "kernels_config": {
    "python": {
     "delete_cmd_postfix": "",
     "delete_cmd_prefix": "del ",
     "library": "var_list.py",
     "varRefreshCmd": "print(var_dic_list())"
    },
    "r": {
     "delete_cmd_postfix": ") ",
     "delete_cmd_prefix": "rm(",
     "library": "var_list.r",
     "varRefreshCmd": "cat(var_dic_list()) "
    }
   },
   "types_to_exclude": [
    "module",
    "function",
    "builtin_function_or_method",
    "instance",
    "_Feature"
   ],
   "window_display": false
  }
 },
 "nbformat": 4,
 "nbformat_minor": 4
}
