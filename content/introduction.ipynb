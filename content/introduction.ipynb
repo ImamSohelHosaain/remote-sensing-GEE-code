{
 "cells": [
  {
   "cell_type": "markdown",
   "metadata": {},
   "source": [
    "# Introduction\n",
    "\n",
    "This book provides text and examples for how to use Google Earth Engine {cite}`gorelick2017google` to work through the remote sensing data workflow:\n",
    "\n",
    "* Acquisition and Preprocessing;\n",
    "* Processing;\n",
    "* Postprocessing;\n",
    "* Visualization; and,\n",
    "* Export.\n",
    "\n",
    "The book includes code in `JavaScript` and `Python` languages for completing remote sensing analyses.\n",
    "\n",
    "## Content\n",
    "\n",
    "This book is organized into three parts, with each part containing chapters of higher complexity and longer workflows than the previous part(s). \n",
    "\n",
    "### Part 1: Beginner Workflows\n",
    "\n",
    "Part 1 provides introductory workflows to introduce Earth Engine functionality. Each chapter shows a few tasks and processes to familiarize the reader with the Earth Engine platform and syntax. Part 1 contains Chapters 1-7.\n",
    "\n",
    "{doc}`Chapter 1 <./01-beginner/chapter01-qualitative-change-detection>` provides a workflow to observe qualitative change from snow-on to snow-off conditions in Rocky Mountain National Park, Colorado, United States. \n",
    "\n",
    "{doc}`Chapter 2 <./01-beginner/chapter02-normalized-difference>` provides a workflow to demonstrate the Normalized Difference Vegetation Index (NDVI) for snow-on and snow-off conditions in Rocky Mountain National Park, Colorado, United States.\n",
    "\n",
    "{doc}`Chapter 3 <./01-beginner/chapter03-image-composites>` provides a workflow to create composite images from a collection of Summer imagery in Rocky Mountain National Park, Colorado, United States.\n",
    "\n",
    "{doc}`Chapter 4 <./01-beginner/chapter04-image-mosaics>` provides a workflow to create a mosaic image from water features and imagery in Vermont, United States.\n",
    "\n",
    "{doc}`Chapter 5 <./01-beginner/chapter05-image-collection-iteration>` provides a workflow to iterate through an image collection and calculate the cumulative NDVI difference for imagery in Rocky Mountain National Park, Colorado, United States. \n",
    "\n",
    "{doc}`Chapter 6 <./01-beginner/chapter06-cloud-masking>` provides a workflow to mask clouds and cloud shadows within imagery for Rocky Mountain National Park, Colorado, United States.\n",
    "\n",
    "{doc}`Chapter 7 <./01-beginner/chapter07-data-quality-bitmasks>` provides a workflow to explore quality flag bitmasks for imagery in Rocky Mountain National Park, Colorado, United States.\n",
    "\n",
    "Chapter quick reference:\n",
    "\n",
    "* {doc}`./01-beginner/chapter01-qualitative-change-detection`\n",
    "* {doc}`./01-beginner/chapter02-normalized-difference`\n",
    "* {doc}`./01-beginner/chapter03-image-composites`\n",
    "* {doc}`./01-beginner/chapter04-image-mosaics`\n",
    "* {doc}`./01-beginner/chapter05-image-collection-iteration`\n",
    "* {doc}`./01-beginner/chapter06-cloud-masking`\n",
    "* {doc}`./01-beginner/chapter07-data-quality-bitmasks`\n",
    "\n",
    "### Part 2: Intermediate Workflows \n",
    "\n",
    "Part 2 provides workflows that piece together tasks and processes from Part 1 in order to create more complex and meaningful workflows, and introduces more complex tasks and processes.\n",
    "\n",
    "### Part 3: Advanced Workflows\n",
    "\n",
    "Part 3 provides full scientific workflows in Earth Engine that have been re-created from existing, peer-reviewed papers and/or ongoing remote sensing projects. One of the goals of this book is to promote and provide open and reproducible science workflows, and this chapter is dedicated to creating this type of workflow within the Earth Engine platform.\n",
    "\n",
    "## Prerequisites\n",
    "\n",
    "In order to reproduce the computational workflows in this book, you must have an active [Google Earth Engine account](https://earthengine.google.com/).\n",
    "\n",
    "\n",
    "## Bibliography\n",
    "\n",
    "```{bibliography} references.bib\n",
    ":style: plain\n",
    "```"
   ]
  }
 ],
 "metadata": {
  "kernelspec": {
   "display_name": "Python 3",
   "language": "python",
   "name": "python3"
  },
  "language_info": {
   "codemirror_mode": {
    "name": "ipython",
    "version": 3
   },
   "file_extension": ".py",
   "mimetype": "text/x-python",
   "name": "python",
   "nbconvert_exporter": "python",
   "pygments_lexer": "ipython3",
   "version": "3.8.2"
  },
  "varInspector": {
   "cols": {
    "lenName": 16,
    "lenType": 16,
    "lenVar": 40
   },
   "kernels_config": {
    "python": {
     "delete_cmd_postfix": "",
     "delete_cmd_prefix": "del ",
     "library": "var_list.py",
     "varRefreshCmd": "print(var_dic_list())"
    },
    "r": {
     "delete_cmd_postfix": ") ",
     "delete_cmd_prefix": "rm(",
     "library": "var_list.r",
     "varRefreshCmd": "cat(var_dic_list()) "
    }
   },
   "types_to_exclude": [
    "module",
    "function",
    "builtin_function_or_method",
    "instance",
    "_Feature"
   ],
   "window_display": false
  }
 },
 "nbformat": 4,
 "nbformat_minor": 4
}
