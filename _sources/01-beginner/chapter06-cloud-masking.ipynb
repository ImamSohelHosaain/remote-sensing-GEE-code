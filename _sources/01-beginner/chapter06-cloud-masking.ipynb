{
 "cells": [
  {
   "cell_type": "markdown",
   "metadata": {},
   "source": [
    "# Chapter 6: Cloud Masking"
   ]
  },
  {
   "cell_type": "markdown",
   "metadata": {},
   "source": [
    "## Environment Setup"
   ]
  },
  {
   "cell_type": "code",
   "execution_count": null,
   "metadata": {
    "ExecuteTime": {
     "end_time": "2020-11-09T00:19:12.470868Z",
     "start_time": "2020-11-09T00:19:12.462844Z"
    }
   },
   "outputs": [],
   "source": [
    "def initialize_earth_engine():\n",
    "    \"\"\"Initializes the Earth Engine Python API.\n",
    "    \n",
    "    Returns\n",
    "    -------\n",
    "    str\n",
    "    \n",
    "    Example\n",
    "    -------\n",
    "        >>> import ee\n",
    "        >>> initialize_earth_engine()\n",
    "        Imported ee. Initialized Earth Engine Python API.\n",
    "    \"\"\"\n",
    "    # Import ee if not already imported\n",
    "    import sys\n",
    "\n",
    "    if \"ee\" not in sys.modules:\n",
    "        import ee\n",
    "\n",
    "        global ee\n",
    "\n",
    "    # Initialize Earth Engine Python API\n",
    "    try:\n",
    "        ee.Initialize()\n",
    "    except Exception:\n",
    "        ee.Authenticate()\n",
    "        ee.Initialize()\n",
    "\n",
    "    return print(\"Imported ee. Initialized Earth Engine Python API.\")"
   ]
  },
  {
   "cell_type": "code",
   "execution_count": null,
   "metadata": {
    "ExecuteTime": {
     "end_time": "2020-11-09T00:19:12.483789Z",
     "start_time": "2020-11-09T00:19:12.474814Z"
    }
   },
   "outputs": [],
   "source": [
    "def import_geemap():\n",
    "    \"\"\"Imports the geemap package (environment-dependent, Google Colab\n",
    "    vs. Jupyter/Binder).\n",
    "    \n",
    "    Returns\n",
    "    -------\n",
    "    environment : str\n",
    "        Message indicating the geemap has been imported into the\n",
    "        environment. The message differs based on the environment.\n",
    "    \n",
    "    Example\n",
    "    -------\n",
    "        >>> import_geemap()\n",
    "        Notebook running in Jupyter/Binder. Imported geemap as gm.\n",
    "    \"\"\"\n",
    "    # Check for Google Colab\n",
    "    try:\n",
    "        import google.colab\n",
    "    # Notebook running in Jupyter/Binder\n",
    "    except ImportError:\n",
    "        running_in_colab = False\n",
    "    # Notebook running in Google Colab\n",
    "    else:\n",
    "        running_in_colab = True\n",
    "\n",
    "    # Import geemap based on environment (Google Colab vs. Jupyter/Binder)\n",
    "    if running_in_colab:\n",
    "        import subprocess\n",
    "\n",
    "        subprocess.check_call([\"python\", \"-m\", \"pip\", \"install\", \"geemap\"])\n",
    "        import geemap.eefolium as gm\n",
    "\n",
    "        global gm\n",
    "        environment = print(\n",
    "            \"Notebook running in Google Colab. Imported geemap.folium as gm.\"\n",
    "        )\n",
    "    else:\n",
    "        import geemap as gm\n",
    "\n",
    "        global gm\n",
    "        environment = print(\n",
    "            \"Notebook running in Jupyter/Binder. Imported geemap as gm.\"\n",
    "        )\n",
    "\n",
    "    return environment"
   ]
  },
  {
   "cell_type": "code",
   "execution_count": null,
   "metadata": {
    "ExecuteTime": {
     "end_time": "2020-11-09T00:19:12.494761Z",
     "start_time": "2020-11-09T00:19:12.486781Z"
    }
   },
   "outputs": [],
   "source": [
    "def mask_clouds_shadows_landsat8(image):\n",
    "    \"\"\"Masks clouds and cloud shadows in a Landsat 8 image.\n",
    "    \n",
    "    Parameters\n",
    "    ----------\n",
    "    image : ee.image.Image object\n",
    "        Landsat 8 image.\n",
    "    \n",
    "    Returns\n",
    "    -------\n",
    "    masked_image : ee.image.Image object\n",
    "         Input image masked for clouds and cloud shadows.\n",
    "    \n",
    "    Example\n",
    "    -------\n",
    "        >>>\n",
    "        >>>\n",
    "        >>>\n",
    "        >>>\n",
    "    \"\"\"\n",
    "    # Define cloud shadow (3) and cloud (5) mask bits\n",
    "    cloud_shadow_bit_mask = 1 << 3\n",
    "    cloud_bit_mask = 1 << 5\n",
    "\n",
    "    # Get the pixel QA band\n",
    "    qa = image.select(\"pixel_qa\")\n",
    "\n",
    "    # Create mask image, based on both bit masks == 0\n",
    "    mask = qa.bitwiseAnd(cloud_shadow_bit_mask).eq(0) and qa.bitwiseAnd(\n",
    "        cloud_bit_mask\n",
    "    ).eq(0)\n",
    "\n",
    "    # Mask image\n",
    "    masked_image = image.updateMask(mask)\n",
    "\n",
    "    return masked_image"
   ]
  },
  {
   "cell_type": "code",
   "execution_count": null,
   "metadata": {
    "ExecuteTime": {
     "end_time": "2020-11-09T00:19:12.505730Z",
     "start_time": "2020-11-09T00:19:12.497752Z"
    }
   },
   "outputs": [],
   "source": [
    "def clip_to_rmnp(image):\n",
    "    \"\"\"Helper function to clip an image to the RMNP boundary.\n",
    "    \"\"\"\n",
    "    # Clip image to RMNP boundary\n",
    "    clipped = image.clip(rmnp_boundary)\n",
    "\n",
    "    return clipped"
   ]
  },
  {
   "cell_type": "code",
   "execution_count": null,
   "metadata": {
    "ExecuteTime": {
     "end_time": "2020-11-09T00:19:14.383986Z",
     "start_time": "2020-11-09T00:19:12.508722Z"
    }
   },
   "outputs": [],
   "source": [
    "# Initialize Earth Engine Python API\n",
    "initialize_earth_engine()"
   ]
  },
  {
   "cell_type": "code",
   "execution_count": null,
   "metadata": {
    "ExecuteTime": {
     "end_time": "2020-11-09T00:19:15.393866Z",
     "start_time": "2020-11-09T00:19:14.386952Z"
    }
   },
   "outputs": [],
   "source": [
    "# Import geemap\n",
    "import_geemap()"
   ]
  },
  {
   "cell_type": "markdown",
   "metadata": {},
   "source": [
    "## Data Acquisition and Preprocessing"
   ]
  },
  {
   "cell_type": "code",
   "execution_count": null,
   "metadata": {
    "ExecuteTime": {
     "end_time": "2020-11-09T00:19:15.408827Z",
     "start_time": "2020-11-09T00:19:15.397824Z"
    }
   },
   "outputs": [],
   "source": [
    "# Get RMNP boundary\n",
    "rmnp_boundary = ee.FeatureCollection(\n",
    "    \"users/calekochenour/Rocky_Mountain_National_Park__Boundary_Polygon\"\n",
    ")\n",
    "\n",
    "# Create mean composite of unmasked images for summer 2013-2020\n",
    "rmnp_unmasked_mean = (\n",
    "    ee.ImageCollection(\"LANDSAT/LC08/C01/T1_SR\")\n",
    "    .filter(ee.Filter.calendarRange(2013, 2020, \"year\"))\n",
    "    .filter(ee.Filter.calendarRange(6, 9, \"month\"))\n",
    "    .filterBounds(rmnp_boundary)\n",
    "    .map(clip_to_rmnp)\n",
    "    .mean()\n",
    ")\n",
    "\n",
    "# Create mean composite of masked images for summer 2013-2020\n",
    "rmnp_masked_mean = (\n",
    "    ee.ImageCollection(\"LANDSAT/LC08/C01/T1_SR\")\n",
    "    .filter(ee.Filter.calendarRange(2013, 2020, \"year\"))\n",
    "    .filter(ee.Filter.calendarRange(6, 9, \"month\"))\n",
    "    .filterBounds(rmnp_boundary)\n",
    "    .map(clip_to_rmnp)\n",
    "    .map(mask_clouds_shadows_landsat8)\n",
    "    .mean()\n",
    ")"
   ]
  },
  {
   "cell_type": "markdown",
   "metadata": {},
   "source": [
    "## Data Processing"
   ]
  },
  {
   "cell_type": "code",
   "execution_count": null,
   "metadata": {
    "ExecuteTime": {
     "end_time": "2020-11-09T00:19:15.419790Z",
     "start_time": "2020-11-09T00:19:15.411791Z"
    }
   },
   "outputs": [],
   "source": [
    "# No data processing in this chapter."
   ]
  },
  {
   "cell_type": "markdown",
   "metadata": {},
   "source": [
    "## Data Postprocessing"
   ]
  },
  {
   "cell_type": "code",
   "execution_count": null,
   "metadata": {
    "ExecuteTime": {
     "end_time": "2020-11-09T00:19:15.430737Z",
     "start_time": "2020-11-09T00:19:15.422757Z"
    }
   },
   "outputs": [],
   "source": [
    "# No data postprocessing in this chapter."
   ]
  },
  {
   "cell_type": "markdown",
   "metadata": {},
   "source": [
    "## Data Visualization"
   ]
  },
  {
   "cell_type": "code",
   "execution_count": null,
   "metadata": {
    "ExecuteTime": {
     "end_time": "2020-11-09T00:19:16.324134Z",
     "start_time": "2020-11-09T00:19:15.432732Z"
    }
   },
   "outputs": [],
   "source": [
    "# Create interactive map for visualization and set options\n",
    "if \"rmnp_map\" in globals():\n",
    "    del rmnp_map\n",
    "    rmnp_map = gm.Map()\n",
    "    rmnp_map.setOptions(\"SATELLITE\")\n",
    "    rmnp_map.setCenter(lon=-105.6836, lat=40.3428, zoom=10)\n",
    "else:\n",
    "    rmnp_map = gm.Map()\n",
    "    rmnp_map.setOptions(\"SATELLITE\")\n",
    "    rmnp_map.setCenter(lon=-105.6836, lat=40.3428, zoom=10)"
   ]
  },
  {
   "cell_type": "code",
   "execution_count": null,
   "metadata": {
    "ExecuteTime": {
     "end_time": "2020-11-09T00:19:16.333084Z",
     "start_time": "2020-11-09T00:19:16.329085Z"
    }
   },
   "outputs": [],
   "source": [
    "# Set visualization parameters, Landsat 8 RGB and CIR\n",
    "l8_vis_params_rgb = {\"bands\": [\"B4\", \"B3\", \"B2\"], \"min\": 0, \"max\": 3000}\n",
    "l8_vis_params_cir = {\"bands\": [\"B5\", \"B4\", \"B3\"], \"min\": 0, \"max\": 3000}"
   ]
  },
  {
   "cell_type": "code",
   "execution_count": null,
   "metadata": {
    "ExecuteTime": {
     "end_time": "2020-11-09T00:19:25.195636Z",
     "start_time": "2020-11-09T00:19:16.335080Z"
    }
   },
   "outputs": [],
   "source": [
    "# Add unmasked and masked composites\n",
    "rmnp_map.addLayer(\n",
    "    rmnp_unmasked_mean,\n",
    "    l8_vis_params_rgb,\n",
    "    \"Landsat 8 - RGB - RMNP Unmasked Mean Composite\",\n",
    ")\n",
    "\n",
    "rmnp_map.addLayer(\n",
    "    rmnp_masked_mean,\n",
    "    l8_vis_params_rgb,\n",
    "    \"Landsat 8 - RGB - RMNP Masked Mean Composite\",\n",
    ")\n",
    "\n",
    "rmnp_map.addLayer(\n",
    "    rmnp_unmasked_mean,\n",
    "    l8_vis_params_cir,\n",
    "    \"Landsat 8 - CIR - RMNP Unmasked Mean Composite\",\n",
    ")\n",
    "\n",
    "rmnp_map.addLayer(\n",
    "    rmnp_masked_mean,\n",
    "    l8_vis_params_cir,\n",
    "    \"Landsat 8 - CIR - RMNP Masked Mean Composite\",\n",
    ")"
   ]
  },
  {
   "cell_type": "code",
   "execution_count": null,
   "metadata": {
    "ExecuteTime": {
     "end_time": "2020-11-09T00:19:25.207615Z",
     "start_time": "2020-11-09T00:19:25.197632Z"
    }
   },
   "outputs": [],
   "source": [
    "# Display map\n",
    "rmnp_map"
   ]
  },
  {
   "cell_type": "markdown",
   "metadata": {},
   "source": [
    "## Data Export"
   ]
  },
  {
   "cell_type": "code",
   "execution_count": null,
   "metadata": {
    "ExecuteTime": {
     "end_time": "2020-11-09T00:19:25.216596Z",
     "start_time": "2020-11-09T00:19:25.210598Z"
    }
   },
   "outputs": [],
   "source": [
    "# No data export in this chapter."
   ]
  }
 ],
 "metadata": {
  "kernelspec": {
   "display_name": "Python 3",
   "language": "python",
   "name": "python3"
  },
  "language_info": {
   "codemirror_mode": {
    "name": "ipython",
    "version": 3
   },
   "file_extension": ".py",
   "mimetype": "text/x-python",
   "name": "python",
   "nbconvert_exporter": "python",
   "pygments_lexer": "ipython3",
   "version": "3.8.2"
  },
  "varInspector": {
   "cols": {
    "lenName": 16,
    "lenType": 16,
    "lenVar": 40
   },
   "kernels_config": {
    "python": {
     "delete_cmd_postfix": "",
     "delete_cmd_prefix": "del ",
     "library": "var_list.py",
     "varRefreshCmd": "print(var_dic_list())"
    },
    "r": {
     "delete_cmd_postfix": ") ",
     "delete_cmd_prefix": "rm(",
     "library": "var_list.r",
     "varRefreshCmd": "cat(var_dic_list()) "
    }
   },
   "types_to_exclude": [
    "module",
    "function",
    "builtin_function_or_method",
    "instance",
    "_Feature"
   ],
   "window_display": false
  }
 },
 "nbformat": 4,
 "nbformat_minor": 4
}
